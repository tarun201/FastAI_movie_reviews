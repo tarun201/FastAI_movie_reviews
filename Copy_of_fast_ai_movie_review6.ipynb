{
  "nbformat": 4,
  "nbformat_minor": 0,
  "metadata": {
    "colab": {
      "name": "Copy of fast-ai-movie-review.ipynb",
      "version": "0.3.2",
      "provenance": [],
      "collapsed_sections": [],
      "include_colab_link": true
    },
    "kernelspec": {
      "name": "python3",
      "display_name": "Python 3"
    },
    "accelerator": "GPU"
  },
  "cells": [
    {
      "cell_type": "markdown",
      "metadata": {
        "id": "view-in-github",
        "colab_type": "text"
      },
      "source": [
        "<a href=\"https://colab.research.google.com/github/tarun201/FastAI_movie_reviews/blob/master/Copy_of_fast_ai_movie_review6.ipynb\" target=\"_parent\"><img src=\"https://colab.research.google.com/assets/colab-badge.svg\" alt=\"Open In Colab\"/></a>"
      ]
    },
    {
      "cell_type": "markdown",
      "metadata": {
        "id": "2s4m0Q2s97KT",
        "colab_type": "text"
      },
      "source": [
        "# [fast_ai_movie_review](https://github.com/navneetkrc/Colab_fastai/blob/master/NLP/fast_ai_movie_review.ipynb)\n",
        "\n"
      ]
    },
    {
      "cell_type": "code",
      "metadata": {
        "id": "T3xR6RnE3RoQ",
        "colab_type": "code",
        "colab": {}
      },
      "source": [
        "!pip install torch_nightly -f https://download.pytorch.org/whl/nightly/cu92/torch_nightly.html\n",
        "!pip install fastai"
      ],
      "execution_count": 0,
      "outputs": []
    },
    {
      "cell_type": "code",
      "metadata": {
        "_cell_guid": "79c7e3d0-c299-4dcb-8224-4455121ee9b0",
        "_uuid": "d629ff2d2480ee46fbb7e2d37f6b5fab8052498a",
        "trusted": true,
        "id": "ZVuf9oCT3I3_",
        "colab_type": "code",
        "colab": {}
      },
      "source": [
        "from fastai import *\n",
        "from fastai.text import * \n",
        "from fastai.gen_doc.nbdoc import *\n",
        "from fastai.datasets import * \n",
        "from fastai.datasets import Config\n",
        "from pathlib import Path\n",
        "import numpy as np # linear algebra\n",
        "import pandas as pd # data processing, CSV file I/O (e.g. pd.read_csv)\n"
      ],
      "execution_count": 0,
      "outputs": []
    },
    {
      "cell_type": "code",
      "metadata": {
        "trusted": true,
        "_uuid": "d08b105a3cd79cb396ba624f076ab0d8b6b59178",
        "id": "JP7HjzAd3I4D",
        "colab_type": "code",
        "colab": {}
      },
      "source": [
        "#import fastai; \n",
        "#fastai.show_install(1)\n",
        "# !ls"
      ],
      "execution_count": 0,
      "outputs": []
    },
    {
      "cell_type": "markdown",
      "metadata": {
        "id": "3KemXcxbFr3x",
        "colab_type": "text"
      },
      "source": [
        "Download data manually from [here](https://www.kaggle.com/c/sentiment-analysis-on-movie-reviews/data)\n",
        "\n",
        "Then upload it on colab using below codes"
      ]
    },
    {
      "cell_type": "code",
      "metadata": {
        "id": "jXxGfd5_Fks4",
        "colab_type": "code",
        "colab": {}
      },
      "source": [
        "from google.colab import files\n",
        "files.upload()"
      ],
      "execution_count": 0,
      "outputs": []
    },
    {
      "cell_type": "code",
      "metadata": {
        "id": "cukHWHoC3856",
        "colab_type": "code",
        "colab": {}
      },
      "source": [
        "# !pip install -U -q kaggle\n",
        "# !echo '{\"username\":\"username\",\"key\":\"XXxxxxxxxxxxxxxx\"}'> ~/.kaggle/kaggle.json  # Replace\n",
        "# #!chmod 600 kaggle.json"
      ],
      "execution_count": 0,
      "outputs": []
    },
    {
      "cell_type": "code",
      "metadata": {
        "id": "V2TPCRoztapM",
        "colab_type": "code",
        "colab": {
          "base_uri": "https://localhost:8080/",
          "height": 85
        },
        "outputId": "147afa90-9569-4359-de73-4528e1fbad4e"
      },
      "source": [
        "!unzip sentiment-analysis-on-movie-reviews.zip"
      ],
      "execution_count": 5,
      "outputs": [
        {
          "output_type": "stream",
          "text": [
            "Archive:  sentiment-analysis-on-movie-reviews.zip\n",
            "  inflating: sampleSubmission.csv    \n",
            "  inflating: train.tsv               \n",
            "  inflating: test.tsv                \n"
          ],
          "name": "stdout"
        }
      ]
    },
    {
      "cell_type": "code",
      "metadata": {
        "id": "b38H_iDdGM9e",
        "colab_type": "code",
        "colab": {}
      },
      "source": [
        "!mkdir -p ~/.kaggle\n",
        "!mkdir -p input"
      ],
      "execution_count": 0,
      "outputs": []
    },
    {
      "cell_type": "markdown",
      "metadata": {
        "id": "M1ZnkHcQMJB4",
        "colab_type": "text"
      },
      "source": [
        "Move the \"test.tsv\" & \"train.tsv\" file to the folder \"input\""
      ]
    },
    {
      "cell_type": "code",
      "metadata": {
        "id": "GTt-3t6BMQUD",
        "colab_type": "code",
        "colab": {}
      },
      "source": [
        "!mv test.tsv train.tsv input/"
      ],
      "execution_count": 0,
      "outputs": []
    },
    {
      "cell_type": "code",
      "metadata": {
        "id": "bgcOr_X44NC6",
        "colab_type": "code",
        "colab": {}
      },
      "source": [
        "# !kaggle competitions download -c sentiment-analysis-on-movie-reviews"
      ],
      "execution_count": 0,
      "outputs": []
    },
    {
      "cell_type": "code",
      "metadata": {
        "id": "eOocQ4dg4TYq",
        "colab_type": "code",
        "colab": {}
      },
      "source": [
        "# !unzip test.tsv.zip -d input\n",
        "# !unzip train.tsv.zip -d input\n",
        "# !mv sampleSubmission.csv input/"
      ],
      "execution_count": 0,
      "outputs": []
    },
    {
      "cell_type": "code",
      "metadata": {
        "trusted": true,
        "_uuid": "1f5409d6adbde548770c6482e1a03ae532628762",
        "id": "QgbmobLP3I4I",
        "colab_type": "code",
        "colab": {}
      },
      "source": [
        "path = Path('../input/')\n",
        "path_working = Path('kaggle/')"
      ],
      "execution_count": 0,
      "outputs": []
    },
    {
      "cell_type": "code",
      "metadata": {
        "trusted": true,
        "_uuid": "6e371c073c5af7a8f03e7f89c4e771e1b4c5d23d",
        "id": "B-FqK1g_3I4M",
        "colab_type": "code",
        "outputId": "4b8bf3db-1ffe-4b80-ac5f-eb111af98f44",
        "colab": {
          "base_uri": "https://localhost:8080/",
          "height": 204
        }
      },
      "source": [
        "df = pd.read_csv('input/train.tsv', sep=\"\\t\")\n",
        "df.head()"
      ],
      "execution_count": 11,
      "outputs": [
        {
          "output_type": "execute_result",
          "data": {
            "text/html": [
              "<div>\n",
              "<style scoped>\n",
              "    .dataframe tbody tr th:only-of-type {\n",
              "        vertical-align: middle;\n",
              "    }\n",
              "\n",
              "    .dataframe tbody tr th {\n",
              "        vertical-align: top;\n",
              "    }\n",
              "\n",
              "    .dataframe thead th {\n",
              "        text-align: right;\n",
              "    }\n",
              "</style>\n",
              "<table border=\"1\" class=\"dataframe\">\n",
              "  <thead>\n",
              "    <tr style=\"text-align: right;\">\n",
              "      <th></th>\n",
              "      <th>PhraseId</th>\n",
              "      <th>SentenceId</th>\n",
              "      <th>Phrase</th>\n",
              "      <th>Sentiment</th>\n",
              "    </tr>\n",
              "  </thead>\n",
              "  <tbody>\n",
              "    <tr>\n",
              "      <th>0</th>\n",
              "      <td>1</td>\n",
              "      <td>1</td>\n",
              "      <td>A series of escapades demonstrating the adage ...</td>\n",
              "      <td>1</td>\n",
              "    </tr>\n",
              "    <tr>\n",
              "      <th>1</th>\n",
              "      <td>2</td>\n",
              "      <td>1</td>\n",
              "      <td>A series of escapades demonstrating the adage ...</td>\n",
              "      <td>2</td>\n",
              "    </tr>\n",
              "    <tr>\n",
              "      <th>2</th>\n",
              "      <td>3</td>\n",
              "      <td>1</td>\n",
              "      <td>A series</td>\n",
              "      <td>2</td>\n",
              "    </tr>\n",
              "    <tr>\n",
              "      <th>3</th>\n",
              "      <td>4</td>\n",
              "      <td>1</td>\n",
              "      <td>A</td>\n",
              "      <td>2</td>\n",
              "    </tr>\n",
              "    <tr>\n",
              "      <th>4</th>\n",
              "      <td>5</td>\n",
              "      <td>1</td>\n",
              "      <td>series</td>\n",
              "      <td>2</td>\n",
              "    </tr>\n",
              "  </tbody>\n",
              "</table>\n",
              "</div>"
            ],
            "text/plain": [
              "   PhraseId  SentenceId                                             Phrase  \\\n",
              "0         1           1  A series of escapades demonstrating the adage ...   \n",
              "1         2           1  A series of escapades demonstrating the adage ...   \n",
              "2         3           1                                           A series   \n",
              "3         4           1                                                  A   \n",
              "4         5           1                                             series   \n",
              "\n",
              "   Sentiment  \n",
              "0          1  \n",
              "1          2  \n",
              "2          2  \n",
              "3          2  \n",
              "4          2  "
            ]
          },
          "metadata": {
            "tags": []
          },
          "execution_count": 11
        }
      ]
    },
    {
      "cell_type": "code",
      "metadata": {
        "trusted": true,
        "_uuid": "e83a4857d50e0b0756749082838bbb2fb8362f66",
        "id": "6pEOed4A3I4S",
        "colab_type": "code",
        "outputId": "e9f4f9cc-8c8b-4c2c-8428-f93ff669b2cd",
        "colab": {
          "base_uri": "https://localhost:8080/",
          "height": 204
        }
      },
      "source": [
        "df['is_valid'] = 0\n",
        "df.head()"
      ],
      "execution_count": 12,
      "outputs": [
        {
          "output_type": "execute_result",
          "data": {
            "text/html": [
              "<div>\n",
              "<style scoped>\n",
              "    .dataframe tbody tr th:only-of-type {\n",
              "        vertical-align: middle;\n",
              "    }\n",
              "\n",
              "    .dataframe tbody tr th {\n",
              "        vertical-align: top;\n",
              "    }\n",
              "\n",
              "    .dataframe thead th {\n",
              "        text-align: right;\n",
              "    }\n",
              "</style>\n",
              "<table border=\"1\" class=\"dataframe\">\n",
              "  <thead>\n",
              "    <tr style=\"text-align: right;\">\n",
              "      <th></th>\n",
              "      <th>PhraseId</th>\n",
              "      <th>SentenceId</th>\n",
              "      <th>Phrase</th>\n",
              "      <th>Sentiment</th>\n",
              "      <th>is_valid</th>\n",
              "    </tr>\n",
              "  </thead>\n",
              "  <tbody>\n",
              "    <tr>\n",
              "      <th>0</th>\n",
              "      <td>1</td>\n",
              "      <td>1</td>\n",
              "      <td>A series of escapades demonstrating the adage ...</td>\n",
              "      <td>1</td>\n",
              "      <td>0</td>\n",
              "    </tr>\n",
              "    <tr>\n",
              "      <th>1</th>\n",
              "      <td>2</td>\n",
              "      <td>1</td>\n",
              "      <td>A series of escapades demonstrating the adage ...</td>\n",
              "      <td>2</td>\n",
              "      <td>0</td>\n",
              "    </tr>\n",
              "    <tr>\n",
              "      <th>2</th>\n",
              "      <td>3</td>\n",
              "      <td>1</td>\n",
              "      <td>A series</td>\n",
              "      <td>2</td>\n",
              "      <td>0</td>\n",
              "    </tr>\n",
              "    <tr>\n",
              "      <th>3</th>\n",
              "      <td>4</td>\n",
              "      <td>1</td>\n",
              "      <td>A</td>\n",
              "      <td>2</td>\n",
              "      <td>0</td>\n",
              "    </tr>\n",
              "    <tr>\n",
              "      <th>4</th>\n",
              "      <td>5</td>\n",
              "      <td>1</td>\n",
              "      <td>series</td>\n",
              "      <td>2</td>\n",
              "      <td>0</td>\n",
              "    </tr>\n",
              "  </tbody>\n",
              "</table>\n",
              "</div>"
            ],
            "text/plain": [
              "   PhraseId  SentenceId                                             Phrase  \\\n",
              "0         1           1  A series of escapades demonstrating the adage ...   \n",
              "1         2           1  A series of escapades demonstrating the adage ...   \n",
              "2         3           1                                           A series   \n",
              "3         4           1                                                  A   \n",
              "4         5           1                                             series   \n",
              "\n",
              "   Sentiment  is_valid  \n",
              "0          1         0  \n",
              "1          2         0  \n",
              "2          2         0  \n",
              "3          2         0  \n",
              "4          2         0  "
            ]
          },
          "metadata": {
            "tags": []
          },
          "execution_count": 12
        }
      ]
    },
    {
      "cell_type": "code",
      "metadata": {
        "trusted": true,
        "_uuid": "d80cffe895faccccf3b1661a3bb3c205fecea568",
        "id": "BL0_1bGN3I4Y",
        "colab_type": "code",
        "outputId": "26908617-9d03-4a20-847f-d8fedd820f3f",
        "colab": {
          "base_uri": "https://localhost:8080/",
          "height": 204
        }
      },
      "source": [
        "df.loc[:50, 'is_valid'] = 1\n",
        "df.head()"
      ],
      "execution_count": 13,
      "outputs": [
        {
          "output_type": "execute_result",
          "data": {
            "text/html": [
              "<div>\n",
              "<style scoped>\n",
              "    .dataframe tbody tr th:only-of-type {\n",
              "        vertical-align: middle;\n",
              "    }\n",
              "\n",
              "    .dataframe tbody tr th {\n",
              "        vertical-align: top;\n",
              "    }\n",
              "\n",
              "    .dataframe thead th {\n",
              "        text-align: right;\n",
              "    }\n",
              "</style>\n",
              "<table border=\"1\" class=\"dataframe\">\n",
              "  <thead>\n",
              "    <tr style=\"text-align: right;\">\n",
              "      <th></th>\n",
              "      <th>PhraseId</th>\n",
              "      <th>SentenceId</th>\n",
              "      <th>Phrase</th>\n",
              "      <th>Sentiment</th>\n",
              "      <th>is_valid</th>\n",
              "    </tr>\n",
              "  </thead>\n",
              "  <tbody>\n",
              "    <tr>\n",
              "      <th>0</th>\n",
              "      <td>1</td>\n",
              "      <td>1</td>\n",
              "      <td>A series of escapades demonstrating the adage ...</td>\n",
              "      <td>1</td>\n",
              "      <td>1</td>\n",
              "    </tr>\n",
              "    <tr>\n",
              "      <th>1</th>\n",
              "      <td>2</td>\n",
              "      <td>1</td>\n",
              "      <td>A series of escapades demonstrating the adage ...</td>\n",
              "      <td>2</td>\n",
              "      <td>1</td>\n",
              "    </tr>\n",
              "    <tr>\n",
              "      <th>2</th>\n",
              "      <td>3</td>\n",
              "      <td>1</td>\n",
              "      <td>A series</td>\n",
              "      <td>2</td>\n",
              "      <td>1</td>\n",
              "    </tr>\n",
              "    <tr>\n",
              "      <th>3</th>\n",
              "      <td>4</td>\n",
              "      <td>1</td>\n",
              "      <td>A</td>\n",
              "      <td>2</td>\n",
              "      <td>1</td>\n",
              "    </tr>\n",
              "    <tr>\n",
              "      <th>4</th>\n",
              "      <td>5</td>\n",
              "      <td>1</td>\n",
              "      <td>series</td>\n",
              "      <td>2</td>\n",
              "      <td>1</td>\n",
              "    </tr>\n",
              "  </tbody>\n",
              "</table>\n",
              "</div>"
            ],
            "text/plain": [
              "   PhraseId  SentenceId                                             Phrase  \\\n",
              "0         1           1  A series of escapades demonstrating the adage ...   \n",
              "1         2           1  A series of escapades demonstrating the adage ...   \n",
              "2         3           1                                           A series   \n",
              "3         4           1                                                  A   \n",
              "4         5           1                                             series   \n",
              "\n",
              "   Sentiment  is_valid  \n",
              "0          1         1  \n",
              "1          2         1  \n",
              "2          2         1  \n",
              "3          2         1  \n",
              "4          2         1  "
            ]
          },
          "metadata": {
            "tags": []
          },
          "execution_count": 13
        }
      ]
    },
    {
      "cell_type": "code",
      "metadata": {
        "trusted": true,
        "_uuid": "2e732da3a9dd7ed5f6d37901ee92db09c3c4e6b3",
        "id": "0dMFKE5k3I4d",
        "colab_type": "code",
        "outputId": "593f1d16-c672-42d9-ee3d-480f563e8bef",
        "colab": {
          "base_uri": "https://localhost:8080/",
          "height": 204
        }
      },
      "source": [
        "df_test = pd.read_csv('input/test.tsv', sep=\"\\t\")\n",
        "df_test.head()"
      ],
      "execution_count": 14,
      "outputs": [
        {
          "output_type": "execute_result",
          "data": {
            "text/html": [
              "<div>\n",
              "<style scoped>\n",
              "    .dataframe tbody tr th:only-of-type {\n",
              "        vertical-align: middle;\n",
              "    }\n",
              "\n",
              "    .dataframe tbody tr th {\n",
              "        vertical-align: top;\n",
              "    }\n",
              "\n",
              "    .dataframe thead th {\n",
              "        text-align: right;\n",
              "    }\n",
              "</style>\n",
              "<table border=\"1\" class=\"dataframe\">\n",
              "  <thead>\n",
              "    <tr style=\"text-align: right;\">\n",
              "      <th></th>\n",
              "      <th>PhraseId</th>\n",
              "      <th>SentenceId</th>\n",
              "      <th>Phrase</th>\n",
              "    </tr>\n",
              "  </thead>\n",
              "  <tbody>\n",
              "    <tr>\n",
              "      <th>0</th>\n",
              "      <td>156061</td>\n",
              "      <td>8545</td>\n",
              "      <td>An intermittently pleasing but mostly routine ...</td>\n",
              "    </tr>\n",
              "    <tr>\n",
              "      <th>1</th>\n",
              "      <td>156062</td>\n",
              "      <td>8545</td>\n",
              "      <td>An intermittently pleasing but mostly routine ...</td>\n",
              "    </tr>\n",
              "    <tr>\n",
              "      <th>2</th>\n",
              "      <td>156063</td>\n",
              "      <td>8545</td>\n",
              "      <td>An</td>\n",
              "    </tr>\n",
              "    <tr>\n",
              "      <th>3</th>\n",
              "      <td>156064</td>\n",
              "      <td>8545</td>\n",
              "      <td>intermittently pleasing but mostly routine effort</td>\n",
              "    </tr>\n",
              "    <tr>\n",
              "      <th>4</th>\n",
              "      <td>156065</td>\n",
              "      <td>8545</td>\n",
              "      <td>intermittently pleasing but mostly routine</td>\n",
              "    </tr>\n",
              "  </tbody>\n",
              "</table>\n",
              "</div>"
            ],
            "text/plain": [
              "   PhraseId  SentenceId                                             Phrase\n",
              "0    156061        8545  An intermittently pleasing but mostly routine ...\n",
              "1    156062        8545  An intermittently pleasing but mostly routine ...\n",
              "2    156063        8545                                                 An\n",
              "3    156064        8545  intermittently pleasing but mostly routine effort\n",
              "4    156065        8545         intermittently pleasing but mostly routine"
            ]
          },
          "metadata": {
            "tags": []
          },
          "execution_count": 14
        }
      ]
    },
    {
      "cell_type": "code",
      "metadata": {
        "trusted": true,
        "_uuid": "95cc89b4273244a4919bd2f8b0631a18b1621f0e",
        "id": "fxUmHm083I4i",
        "colab_type": "code",
        "colab": {}
      },
      "source": [
        "df.rename(index=str, columns={\"Phrase\": \"text\", \"Sentiment\": \"target\"},inplace=True)"
      ],
      "execution_count": 0,
      "outputs": []
    },
    {
      "cell_type": "code",
      "metadata": {
        "trusted": true,
        "_uuid": "e1c2fff99ef82aff6ea4dbaecfc1a83167ab34d5",
        "id": "hh7uU55T3I4u",
        "colab_type": "code",
        "colab": {}
      },
      "source": [
        "df_test.rename(index=str, columns={\"Phrase\": \"text\", \"Sentiment\": \"target\"},inplace=True)"
      ],
      "execution_count": 0,
      "outputs": []
    },
    {
      "cell_type": "code",
      "metadata": {
        "trusted": true,
        "_uuid": "e7ca3727c8ff7c0b812f4d994033024653c59ba9",
        "id": "l7StT3mF3I4y",
        "colab_type": "code",
        "colab": {}
      },
      "source": [
        "df_test['is_valid'] = 0"
      ],
      "execution_count": 0,
      "outputs": []
    },
    {
      "cell_type": "code",
      "metadata": {
        "trusted": true,
        "_uuid": "2c2622aaf70ce8d6cb9be012b2b691d99746fe8a",
        "id": "wxXub3IK3I43",
        "colab_type": "code",
        "colab": {}
      },
      "source": [
        "df_test.to_csv(f'test.csv', index=False)"
      ],
      "execution_count": 0,
      "outputs": []
    },
    {
      "cell_type": "code",
      "metadata": {
        "trusted": true,
        "_uuid": "038293097a31e6b6765d5c2e421566769019c5b6",
        "id": "FTgCYkA93I46",
        "colab_type": "code",
        "colab": {}
      },
      "source": [
        "df.to_csv(f'train.csv', index=False)"
      ],
      "execution_count": 0,
      "outputs": []
    },
    {
      "cell_type": "code",
      "metadata": {
        "id": "blANYp8W8VZf",
        "colab_type": "code",
        "colab": {}
      },
      "source": [
        "!mkdir kaggle\n",
        "!mv train.csv kaggle/\n",
        "!mv test.csv kaggle/"
      ],
      "execution_count": 0,
      "outputs": []
    },
    {
      "cell_type": "code",
      "metadata": {
        "trusted": true,
        "_uuid": "e06e20b2f6532905ce932bc582fe8e62d36ad140",
        "id": "yx5tFT0K3I4_",
        "colab_type": "code",
        "outputId": "15007154-9c4e-4953-d89b-9ed2ca2952c0",
        "colab": {
          "base_uri": "https://localhost:8080/",
          "height": 204
        }
      },
      "source": [
        "df_mod = pd.read_csv('kaggle/train.csv')\n",
        "df_mod.head()"
      ],
      "execution_count": 21,
      "outputs": [
        {
          "output_type": "execute_result",
          "data": {
            "text/html": [
              "<div>\n",
              "<style scoped>\n",
              "    .dataframe tbody tr th:only-of-type {\n",
              "        vertical-align: middle;\n",
              "    }\n",
              "\n",
              "    .dataframe tbody tr th {\n",
              "        vertical-align: top;\n",
              "    }\n",
              "\n",
              "    .dataframe thead th {\n",
              "        text-align: right;\n",
              "    }\n",
              "</style>\n",
              "<table border=\"1\" class=\"dataframe\">\n",
              "  <thead>\n",
              "    <tr style=\"text-align: right;\">\n",
              "      <th></th>\n",
              "      <th>PhraseId</th>\n",
              "      <th>SentenceId</th>\n",
              "      <th>text</th>\n",
              "      <th>target</th>\n",
              "      <th>is_valid</th>\n",
              "    </tr>\n",
              "  </thead>\n",
              "  <tbody>\n",
              "    <tr>\n",
              "      <th>0</th>\n",
              "      <td>1</td>\n",
              "      <td>1</td>\n",
              "      <td>A series of escapades demonstrating the adage ...</td>\n",
              "      <td>1</td>\n",
              "      <td>1</td>\n",
              "    </tr>\n",
              "    <tr>\n",
              "      <th>1</th>\n",
              "      <td>2</td>\n",
              "      <td>1</td>\n",
              "      <td>A series of escapades demonstrating the adage ...</td>\n",
              "      <td>2</td>\n",
              "      <td>1</td>\n",
              "    </tr>\n",
              "    <tr>\n",
              "      <th>2</th>\n",
              "      <td>3</td>\n",
              "      <td>1</td>\n",
              "      <td>A series</td>\n",
              "      <td>2</td>\n",
              "      <td>1</td>\n",
              "    </tr>\n",
              "    <tr>\n",
              "      <th>3</th>\n",
              "      <td>4</td>\n",
              "      <td>1</td>\n",
              "      <td>A</td>\n",
              "      <td>2</td>\n",
              "      <td>1</td>\n",
              "    </tr>\n",
              "    <tr>\n",
              "      <th>4</th>\n",
              "      <td>5</td>\n",
              "      <td>1</td>\n",
              "      <td>series</td>\n",
              "      <td>2</td>\n",
              "      <td>1</td>\n",
              "    </tr>\n",
              "  </tbody>\n",
              "</table>\n",
              "</div>"
            ],
            "text/plain": [
              "   PhraseId  SentenceId                                               text  \\\n",
              "0         1           1  A series of escapades demonstrating the adage ...   \n",
              "1         2           1  A series of escapades demonstrating the adage ...   \n",
              "2         3           1                                           A series   \n",
              "3         4           1                                                  A   \n",
              "4         5           1                                             series   \n",
              "\n",
              "   target  is_valid  \n",
              "0       1         1  \n",
              "1       2         1  \n",
              "2       2         1  \n",
              "3       2         1  \n",
              "4       2         1  "
            ]
          },
          "metadata": {
            "tags": []
          },
          "execution_count": 21
        }
      ]
    },
    {
      "cell_type": "code",
      "metadata": {
        "id": "lqOvtiXI9MIm",
        "colab_type": "code",
        "outputId": "948a306c-e8ee-4fb6-9811-598ae4269490",
        "colab": {
          "base_uri": "https://localhost:8080/",
          "height": 34
        }
      },
      "source": [
        "path_working"
      ],
      "execution_count": 22,
      "outputs": [
        {
          "output_type": "execute_result",
          "data": {
            "text/plain": [
              "PosixPath('kaggle')"
            ]
          },
          "metadata": {
            "tags": []
          },
          "execution_count": 22
        }
      ]
    },
    {
      "cell_type": "code",
      "metadata": {
        "trusted": true,
        "_uuid": "fbdbad59ff880a54f93e70a06ca98ad9edcfffe4",
        "id": "ChQ9kKLE3I5C",
        "colab_type": "code",
        "colab": {}
      },
      "source": [
        "data_lm = (TextList.from_csv(path_working, 'train.csv', cols='text') \n",
        "                   .random_split_by_pct()\n",
        "                   .label_for_lm()\n",
        "                   .add_test(TextList.from_csv(path_working, 'test.csv', cols='text'))\n",
        "                   .databunch())"
      ],
      "execution_count": 0,
      "outputs": []
    },
    {
      "cell_type": "markdown",
      "metadata": {
        "id": "9TsfVR4_VJRn",
        "colab_type": "text"
      },
      "source": [
        ""
      ]
    },
    {
      "cell_type": "code",
      "metadata": {
        "trusted": true,
        "_uuid": "30bd5508d259263b43bed09c6d7f1296aa30427c",
        "id": "gHi6i0YF3I5G",
        "colab_type": "code",
        "outputId": "8a55f50c-cd6f-4709-b17a-d548696217d2",
        "colab": {
          "base_uri": "https://localhost:8080/",
          "height": 510
        }
      },
      "source": [
        "learn = language_model_learner(data_lm, AWD_LSTM, drop_mult=0.7)\n",
        "#learn = language_model_learner(data_lm, pretrained_model=URLs.WT103, drop_mult=0.7)\n",
        "learn.model"
      ],
      "execution_count": 24,
      "outputs": [
        {
          "output_type": "execute_result",
          "data": {
            "text/plain": [
              "SequentialRNN(\n",
              "  (0): AWD_LSTM(\n",
              "    (encoder): Embedding(15092, 400, padding_idx=1)\n",
              "    (encoder_dp): EmbeddingDropout(\n",
              "      (emb): Embedding(15092, 400, padding_idx=1)\n",
              "    )\n",
              "    (rnns): ModuleList(\n",
              "      (0): WeightDropout(\n",
              "        (module): LSTM(400, 1150, batch_first=True)\n",
              "      )\n",
              "      (1): WeightDropout(\n",
              "        (module): LSTM(1150, 1150, batch_first=True)\n",
              "      )\n",
              "      (2): WeightDropout(\n",
              "        (module): LSTM(1150, 400, batch_first=True)\n",
              "      )\n",
              "    )\n",
              "    (input_dp): RNNDropout()\n",
              "    (hidden_dps): ModuleList(\n",
              "      (0): RNNDropout()\n",
              "      (1): RNNDropout()\n",
              "      (2): RNNDropout()\n",
              "    )\n",
              "  )\n",
              "  (1): LinearDecoder(\n",
              "    (decoder): Linear(in_features=400, out_features=15092, bias=True)\n",
              "    (output_dp): RNNDropout()\n",
              "  )\n",
              ")"
            ]
          },
          "metadata": {
            "tags": []
          },
          "execution_count": 24
        }
      ]
    },
    {
      "cell_type": "code",
      "metadata": {
        "trusted": true,
        "_uuid": "9aa37d4afd900beed3d3d8a9254e6b115c8ddb65",
        "id": "NTGqg5Db3I5J",
        "colab_type": "code",
        "outputId": "21b6f7ba-57a6-4c78-9d66-f014b6c8a3ae",
        "colab": {
          "base_uri": "https://localhost:8080/",
          "height": 34
        }
      },
      "source": [
        "learn.lr_find()"
      ],
      "execution_count": 25,
      "outputs": [
        {
          "output_type": "display_data",
          "data": {
            "text/html": [
              ""
            ],
            "text/plain": [
              "<IPython.core.display.HTML object>"
            ]
          },
          "metadata": {
            "tags": []
          }
        },
        {
          "output_type": "stream",
          "text": [
            "LR Finder is complete, type {learner_name}.recorder.plot() to see the graph.\n"
          ],
          "name": "stdout"
        }
      ]
    },
    {
      "cell_type": "code",
      "metadata": {
        "trusted": true,
        "_uuid": "7aa35ac60eb6278ba2dfd66c56e34255685013b6",
        "id": "RtmbLc8C3I5K",
        "colab_type": "code",
        "outputId": "73f27786-941f-47a2-e16b-75b77ee56d5f",
        "colab": {
          "base_uri": "https://localhost:8080/",
          "height": 284
        }
      },
      "source": [
        "learn.recorder.plot()"
      ],
      "execution_count": 0,
      "outputs": [
        {
          "output_type": "display_data",
          "data": {
            "image/png": "[encoded data removed]",
            "text/plain": [
              "<Figure size 432x288 with 1 Axes>"
            ]
          },
          "metadata": {
            "tags": []
          }
        }
      ]
    },
    {
      "cell_type": "markdown",
      "metadata": {
        "id": "719WmGmkgZis",
        "colab_type": "text"
      },
      "source": [
        "**Increasing the number of epochs from 2 to 5 **\n",
        "Adding Momentum to all the fit one\n"
      ]
    },
    {
      "cell_type": "code",
      "metadata": {
        "trusted": true,
        "_uuid": "05bae1b737b7b41eeb4f050d418bfe6f37e0be37",
        "id": "ptv6sNjD3I5Q",
        "colab_type": "code",
        "outputId": "e3edea04-e521-44af-8b8d-45944fb36453",
        "colab": {
          "base_uri": "https://localhost:8080/",
          "height": 204
        }
      },
      "source": [
        "learn.fit_one_cycle(5, 1e-2)"
      ],
      "execution_count": 26,
      "outputs": [
        {
          "output_type": "display_data",
          "data": {
            "text/html": [
              "<table border=\"1\" class=\"dataframe\">\n",
              "  <thead>\n",
              "    <tr style=\"text-align: left;\">\n",
              "      <th>epoch</th>\n",
              "      <th>train_loss</th>\n",
              "      <th>valid_loss</th>\n",
              "      <th>accuracy</th>\n",
              "      <th>time</th>\n",
              "    </tr>\n",
              "  </thead>\n",
              "  <tbody>\n",
              "    <tr>\n",
              "      <td>0</td>\n",
              "      <td>5.352758</td>\n",
              "      <td>4.556601</td>\n",
              "      <td>0.277166</td>\n",
              "      <td>01:57</td>\n",
              "    </tr>\n",
              "    <tr>\n",
              "      <td>1</td>\n",
              "      <td>4.297843</td>\n",
              "      <td>3.792544</td>\n",
              "      <td>0.343705</td>\n",
              "      <td>01:56</td>\n",
              "    </tr>\n",
              "    <tr>\n",
              "      <td>2</td>\n",
              "      <td>3.853230</td>\n",
              "      <td>3.453943</td>\n",
              "      <td>0.386370</td>\n",
              "      <td>01:57</td>\n",
              "    </tr>\n",
              "    <tr>\n",
              "      <td>3</td>\n",
              "      <td>3.638815</td>\n",
              "      <td>3.298913</td>\n",
              "      <td>0.409155</td>\n",
              "      <td>01:56</td>\n",
              "    </tr>\n",
              "    <tr>\n",
              "      <td>4</td>\n",
              "      <td>3.539491</td>\n",
              "      <td>3.275249</td>\n",
              "      <td>0.412647</td>\n",
              "      <td>01:57</td>\n",
              "    </tr>\n",
              "  </tbody>\n",
              "</table>"
            ],
            "text/plain": [
              "<IPython.core.display.HTML object>"
            ]
          },
          "metadata": {
            "tags": []
          }
        }
      ]
    },
    {
      "cell_type": "markdown",
      "metadata": {
        "id": "C2nrfxXZSMe7",
        "colab_type": "text"
      },
      "source": [
        ""
      ]
    },
    {
      "cell_type": "code",
      "metadata": {
        "id": "jVBlX-8QwqnW",
        "colab_type": "code",
        "colab": {}
      },
      "source": [
        "learn.save('mini_train_lm')\n",
        "learn.save_encoder('mini_train_encoder')"
      ],
      "execution_count": 0,
      "outputs": []
    },
    {
      "cell_type": "code",
      "metadata": {
        "id": "6pUmWASVTELc",
        "colab_type": "code",
        "colab": {}
      },
      "source": [
        "#load the encoder models in models folder\n",
        "# !mkdir kaggle/models\n",
        "# !mv mini_train_encoder.pth kaggle/models/\n",
        "# !mv mini_train_lm.pth kaggle/models/"
      ],
      "execution_count": 0,
      "outputs": []
    },
    {
      "cell_type": "code",
      "metadata": {
        "id": "M3XxB3ike35K",
        "colab_type": "code",
        "colab": {}
      },
      "source": [
        "#learn.load_encoder('ft_enc53')\n",
        "learn.load_encoder('mini_train_encoder')"
      ],
      "execution_count": 0,
      "outputs": []
    },
    {
      "cell_type": "code",
      "metadata": {
        "trusted": true,
        "_uuid": "33e7a78b2f2c70a516e666f960419ad510f58ada",
        "id": "90YdG-mo3I5V",
        "colab_type": "code",
        "outputId": "12c5e69b-5613-4d7d-f96e-2d0784e4a2cd",
        "colab": {
          "base_uri": "https://localhost:8080/",
          "height": 306
        }
      },
      "source": [
        "learn.show_results()"
      ],
      "execution_count": 30,
      "outputs": [
        {
          "output_type": "display_data",
          "data": {
            "text/html": [
              "<table border=\"1\" class=\"dataframe\">\n",
              "  <thead>\n",
              "    <tr style=\"text-align: right;\">\n",
              "      <th>text</th>\n",
              "      <th>target</th>\n",
              "      <th>pred</th>\n",
              "    </tr>\n",
              "  </thead>\n",
              "  <tbody>\n",
              "    <tr>\n",
              "      <td>xxbos xxmaj douglas mcgrath 's xxmaj nicholas xxmaj nickleby does xxmaj dickens as it should be done cinematically . xxbos</td>\n",
              "      <td>as a detailed personal portrait and xxbos powerful and revelatory xxbos a touch too xxmaj arthouse 101 in its poetic</td>\n",
              "      <td>xxmaj a film portrait portrait of a xxmaj and moving xxbos xxmaj powerful of much hollywood 101 xxbos a own</td>\n",
              "    </tr>\n",
              "    <tr>\n",
              "      <td>an entertainment destination for the general public xxbos an interesting look xxbos in many ways the perfect festival film :</td>\n",
              "      <td>a calm , self - assured portrait of small town regret , love , duty and friendship that appeals to</td>\n",
              "      <td>a tribute , thoughtful - assured portrait of the town regret and a and duty and friendship . is to</td>\n",
              "    </tr>\n",
              "    <tr>\n",
              "      <td>the flicks moving in and out of the multiplex xxbos at the star - making machinery of tinseltown xxbos atop</td>\n",
              "      <td>an undercurrent of loneliness and isolation xxbos xxmaj halle xxmaj berry does her best to keep up with him xxbos</td>\n",
              "      <td>a undercurrent of loneliness and isolation xxbos xxmaj the xxmaj berry 's n't best xxbos make the with the xxbos</td>\n",
              "    </tr>\n",
              "    <tr>\n",
              "      <td>in the mind of the killer xxbos is not only a love song to the movies xxbos not very informative</td>\n",
              "      <td>about its titular xxbos is xxmaj kissinger may have decided that -- when it comes to truncheoning -- it 's</td>\n",
              "      <td>xxbos the characters character xxmaj a the 's be been to he if it comes to truncheoning -- it 's</td>\n",
              "    </tr>\n",
              "    <tr>\n",
              "      <td>xxbos a bunch of typical late - twenty - somethings natter on about nothing xxbos a promise nor xxbos the</td>\n",
              "      <td>modest , crowd - pleasing goals it sets for itself xxbos there , done that xxbos 's never dull and</td>\n",
              "      <td>film , modest - pleasing goals xxbos is out itself xxbos xxmaj 's and , , xxmaj a quite xxbos</td>\n",
              "    </tr>\n",
              "  </tbody>\n",
              "</table>"
            ],
            "text/plain": [
              "<IPython.core.display.HTML object>"
            ]
          },
          "metadata": {
            "tags": []
          }
        }
      ]
    },
    {
      "cell_type": "code",
      "metadata": {
        "id": "-LpV15rgELPg",
        "colab_type": "code",
        "colab": {}
      },
      "source": [
        "# !nvidia-smi"
      ],
      "execution_count": 0,
      "outputs": []
    },
    {
      "cell_type": "code",
      "metadata": {
        "trusted": true,
        "_uuid": "8aa7a3a5c53b89de71b4892719d23a516fcae41b",
        "id": "7TGCGLFK3I5Z",
        "colab_type": "code",
        "colab": {}
      },
      "source": [
        "# ??TextList.from_csv"
      ],
      "execution_count": 0,
      "outputs": []
    },
    {
      "cell_type": "code",
      "metadata": {
        "trusted": true,
        "_uuid": "d2fdf3a451654b18e319654b2301601a845cb9c0",
        "id": "IycQaTx43I5c",
        "colab_type": "code",
        "colab": {}
      },
      "source": [
        "# data_clas = (TextList.from_csv(path_working, 'train.csv',cols='text', vocab=data_lm.vocab, test='test.csv')\n",
        "#     .split_from_df(col='is_valid') #is_valid\n",
        "#     .label_from_df(cols='target')\n",
        "#     .add_test(TextList.from_csv(path_working, 'test.csv', cols='text'))\n",
        "#     .databunch(bs=42))\n",
        "data_clas = (TextList.from_csv(path_working, 'train.csv',cols='text', vocab=data_lm.vocab)\n",
        "    .split_from_df(col='is_valid') #is_valid\n",
        "    .label_from_df(cols='target')\n",
        "    .add_test(TextList.from_csv(path_working, 'test.csv', cols='text'))\n",
        "    .databunch(bs=42))"
      ],
      "execution_count": 0,
      "outputs": []
    },
    {
      "cell_type": "code",
      "metadata": {
        "trusted": true,
        "_uuid": "e208d7e39669b28f64383573df75c21083de573b",
        "id": "XXw46ZRO3I5f",
        "colab_type": "code",
        "colab": {}
      },
      "source": [
        "# type(data_clas.test_dl)"
      ],
      "execution_count": 0,
      "outputs": []
    },
    {
      "cell_type": "code",
      "metadata": {
        "trusted": true,
        "_uuid": "ff22f1fc9a635a988da2da24191a91f0509afd15",
        "id": "lfz1Cs4j3I5k",
        "colab_type": "code",
        "outputId": "829e141b-369b-4272-96e9-f11de149aa42",
        "colab": {
          "base_uri": "https://localhost:8080/",
          "height": 306
        }
      },
      "source": [
        "data_clas.show_batch()"
      ],
      "execution_count": 35,
      "outputs": [
        {
          "output_type": "display_data",
          "data": {
            "text/html": [
              "<table border=\"1\" class=\"dataframe\">\n",
              "  <thead>\n",
              "    <tr style=\"text-align: right;\">\n",
              "      <th>text</th>\n",
              "      <th>target</th>\n",
              "    </tr>\n",
              "  </thead>\n",
              "  <tbody>\n",
              "    <tr>\n",
              "      <td>xxbos xxup -lrb- xxmaj city xxup -rrb- reminds us how realistically nuanced a xxmaj robert xxmaj de xxmaj niro performance can be when he is not more lucratively engaged in the shameless self - caricature of ` xxmaj analyze xxmaj this ' xxup -lrb- 1999 xxup -rrb- and ` xxmaj analyze xxmaj that , ' promised xxup -lrb- or threatened xxup -rrb- for later this year .</td>\n",
              "      <td>3</td>\n",
              "    </tr>\n",
              "    <tr>\n",
              "      <td>xxbos xxmaj if xxmaj oscar had a category called xxmaj best xxmaj bad xxmaj film xxmaj you xxmaj thought xxmaj was xxmaj going xxmaj to xxmaj be xxmaj really xxmaj awful xxmaj but xxmaj was n't , xxmaj guys would probably be duking it out with xxmaj the xxmaj queen of the xxmaj damned for the honor .</td>\n",
              "      <td>1</td>\n",
              "    </tr>\n",
              "    <tr>\n",
              "      <td>xxbos be captivated , as i was , by its moods , and by its subtly transformed star , and still wonder why xxmaj paul xxmaj thomas xxmaj anderson ever had the inclination to make the most sincere and artful movie in which xxmaj adam xxmaj sandler will probably ever appear</td>\n",
              "      <td>4</td>\n",
              "    </tr>\n",
              "    <tr>\n",
              "      <td>xxbos xxmaj the fascination comes in the power of the xxmaj huston performance , which seems so larger than life and yet so fragile , and in the way the xxmaj ivan character accepts the news of his illness so quickly but still finds himself unable to react .</td>\n",
              "      <td>3</td>\n",
              "    </tr>\n",
              "    <tr>\n",
              "      <td>xxbos xxmaj phillip xxmaj noyce and all of his actors -- as well as his cinematographer , xxmaj christopher xxmaj doyle -- understand the delicate forcefulness of xxmaj greene 's prose , and it 's there on the screen in their version of xxmaj the xxmaj quiet xxmaj american</td>\n",
              "      <td>3</td>\n",
              "    </tr>\n",
              "  </tbody>\n",
              "</table>"
            ],
            "text/plain": [
              "<IPython.core.display.HTML object>"
            ]
          },
          "metadata": {
            "tags": []
          }
        }
      ]
    },
    {
      "cell_type": "code",
      "metadata": {
        "trusted": true,
        "_uuid": "2f51ba96dc14d04544dad98694d458f664142b54",
        "id": "3gofG8_t3I5n",
        "colab_type": "code",
        "colab": {}
      },
      "source": [
        "#??text_classifier_learner()"
      ],
      "execution_count": 0,
      "outputs": []
    },
    {
      "cell_type": "code",
      "metadata": {
        "trusted": true,
        "_uuid": "4e1f6d9e5a0439011626e248b863ecde3f6d5390",
        "id": "DWn9SOfl3I5q",
        "colab_type": "code",
        "outputId": "4c128ef2-8736-4a14-95ab-cc9b5f7b5760",
        "colab": {
          "base_uri": "https://localhost:8080/",
          "height": 34
        }
      },
      "source": [
        "data_clas.c"
      ],
      "execution_count": 37,
      "outputs": [
        {
          "output_type": "execute_result",
          "data": {
            "text/plain": [
              "5"
            ]
          },
          "metadata": {
            "tags": []
          },
          "execution_count": 37
        }
      ]
    },
    {
      "cell_type": "code",
      "metadata": {
        "trusted": true,
        "_uuid": "19578117e296d8a6a1793cc55b2d7e803286b526",
        "id": "mxn3sDF03I5t",
        "colab_type": "code",
        "colab": {}
      },
      "source": [
        "#len(data_clas.vocab.itos)"
      ],
      "execution_count": 0,
      "outputs": []
    },
    {
      "cell_type": "code",
      "metadata": {
        "trusted": true,
        "_uuid": "f8c829eee77556ed5b85847d50ec24e8446ec253",
        "colab_type": "code",
        "outputId": "1356f2b7-3035-457d-e861-370919bffb2d",
        "id": "m3OSADM-9pe0",
        "colab": {
          "base_uri": "https://localhost:8080/",
          "height": 663
        }
      },
      "source": [
        "learn = text_classifier_learner(data_clas, AWD_LSTM)\n",
        "# learn = text_classifier_learner(data_clas,AWD_LSTM,drop_mult=0.5)\n",
        "learn.model"
      ],
      "execution_count": 44,
      "outputs": [
        {
          "output_type": "execute_result",
          "data": {
            "text/plain": [
              "SequentialRNN(\n",
              "  (0): MultiBatchEncoder(\n",
              "    (module): AWD_LSTM(\n",
              "      (encoder): Embedding(15092, 400, padding_idx=1)\n",
              "      (encoder_dp): EmbeddingDropout(\n",
              "        (emb): Embedding(15092, 400, padding_idx=1)\n",
              "      )\n",
              "      (rnns): ModuleList(\n",
              "        (0): WeightDropout(\n",
              "          (module): LSTM(400, 1150, batch_first=True)\n",
              "        )\n",
              "        (1): WeightDropout(\n",
              "          (module): LSTM(1150, 1150, batch_first=True)\n",
              "        )\n",
              "        (2): WeightDropout(\n",
              "          (module): LSTM(1150, 400, batch_first=True)\n",
              "        )\n",
              "      )\n",
              "      (input_dp): RNNDropout()\n",
              "      (hidden_dps): ModuleList(\n",
              "        (0): RNNDropout()\n",
              "        (1): RNNDropout()\n",
              "        (2): RNNDropout()\n",
              "      )\n",
              "    )\n",
              "  )\n",
              "  (1): PoolingLinearClassifier(\n",
              "    (layers): Sequential(\n",
              "      (0): BatchNorm1d(1200, eps=1e-05, momentum=0.1, affine=True, track_running_stats=True)\n",
              "      (1): Dropout(p=0.4)\n",
              "      (2): Linear(in_features=1200, out_features=50, bias=True)\n",
              "      (3): ReLU(inplace)\n",
              "      (4): BatchNorm1d(50, eps=1e-05, momentum=0.1, affine=True, track_running_stats=True)\n",
              "      (5): Dropout(p=0.1)\n",
              "      (6): Linear(in_features=50, out_features=5, bias=True)\n",
              "    )\n",
              "  )\n",
              ")"
            ]
          },
          "metadata": {
            "tags": []
          },
          "execution_count": 44
        }
      ]
    },
    {
      "cell_type": "code",
      "metadata": {
        "trusted": true,
        "_uuid": "5de39165034e4b1af1d2eedb8a341081c197670b",
        "id": "DUuhz81Z3I5z",
        "colab_type": "code",
        "colab": {}
      },
      "source": [
        "#learn.crit = F.binary_cross_entropy\n",
        "learn.crit = F.binary_cross_entropy_with_logits"
      ],
      "execution_count": 0,
      "outputs": []
    },
    {
      "cell_type": "code",
      "metadata": {
        "id": "4_T8l1N-L9rl",
        "colab_type": "code",
        "colab": {}
      },
      "source": [
        "# %cd kaggle/models/m\n",
        "# !ls"
      ],
      "execution_count": 0,
      "outputs": []
    },
    {
      "cell_type": "code",
      "metadata": {
        "trusted": true,
        "_uuid": "b7890378cd542f5767c3b53df5109cbcdb001f81",
        "id": "aJ85Yc293I53",
        "colab_type": "code",
        "outputId": "d53cde81-e043-48ca-b2af-fb2274bbd6de",
        "colab": {
          "base_uri": "https://localhost:8080/",
          "height": 204
        }
      },
      "source": [
        "learn.load_encoder('mini_train_encoder')\n",
        "learn.fit_one_cycle(5, slice(1e-3,1e-2),moms=(0.95,0.85))\n",
        "learn.save('mini_train_clas')"
      ],
      "execution_count": 47,
      "outputs": [
        {
          "output_type": "display_data",
          "data": {
            "text/html": [
              "<table border=\"1\" class=\"dataframe\">\n",
              "  <thead>\n",
              "    <tr style=\"text-align: left;\">\n",
              "      <th>epoch</th>\n",
              "      <th>train_loss</th>\n",
              "      <th>valid_loss</th>\n",
              "      <th>accuracy</th>\n",
              "      <th>time</th>\n",
              "    </tr>\n",
              "  </thead>\n",
              "  <tbody>\n",
              "    <tr>\n",
              "      <td>0</td>\n",
              "      <td>1.255516</td>\n",
              "      <td>0.639007</td>\n",
              "      <td>0.882353</td>\n",
              "      <td>01:49</td>\n",
              "    </tr>\n",
              "    <tr>\n",
              "      <td>1</td>\n",
              "      <td>1.221257</td>\n",
              "      <td>0.572915</td>\n",
              "      <td>0.862745</td>\n",
              "      <td>01:41</td>\n",
              "    </tr>\n",
              "    <tr>\n",
              "      <td>2</td>\n",
              "      <td>1.235774</td>\n",
              "      <td>0.655030</td>\n",
              "      <td>0.862745</td>\n",
              "      <td>01:40</td>\n",
              "    </tr>\n",
              "    <tr>\n",
              "      <td>3</td>\n",
              "      <td>1.204012</td>\n",
              "      <td>0.562084</td>\n",
              "      <td>0.862745</td>\n",
              "      <td>01:53</td>\n",
              "    </tr>\n",
              "    <tr>\n",
              "      <td>4</td>\n",
              "      <td>1.196699</td>\n",
              "      <td>0.665193</td>\n",
              "      <td>0.862745</td>\n",
              "      <td>01:44</td>\n",
              "    </tr>\n",
              "  </tbody>\n",
              "</table>"
            ],
            "text/plain": [
              "<IPython.core.display.HTML object>"
            ]
          },
          "metadata": {
            "tags": []
          }
        }
      ]
    },
    {
      "cell_type": "markdown",
      "metadata": {
        "id": "c0HYycmnUEeW",
        "colab_type": "text"
      },
      "source": [
        "**Using Momentum just on the text classifier didn't seem to do any changes on the final result**"
      ]
    },
    {
      "cell_type": "code",
      "metadata": {
        "id": "eowJuZhuWXA8",
        "colab_type": "code",
        "outputId": "463184c4-b32f-424f-c01f-8acdebb87937",
        "colab": {
          "base_uri": "https://localhost:8080/",
          "height": 283
        }
      },
      "source": [
        "learn.recorder.plot_losses()"
      ],
      "execution_count": 48,
      "outputs": [
        {
          "output_type": "display_data",
          "data": {
            "image/png": "[encoded data removed]",
            "text/plain": [
              "<Figure size 432x288 with 1 Axes>"
            ]
          },
          "metadata": {
            "tags": []
          }
        }
      ]
    },
    {
      "cell_type": "code",
      "metadata": {
        "trusted": true,
        "_uuid": "b3d433050a40e7b793398f3d198d79d3e31876bc",
        "id": "ziLwwXq43I54",
        "colab_type": "code",
        "colab": {}
      },
      "source": [
        "# # get predictions\n",
        "# preds, targets = learn.get_preds()\n",
        "\n",
        "# predictions = np.argmax(preds, axis = 1)\n",
        "# pd.crosstab(predictions, targets)"
      ],
      "execution_count": 0,
      "outputs": []
    },
    {
      "cell_type": "code",
      "metadata": {
        "trusted": true,
        "_uuid": "070f4c0bc8e3d36242bea999bf39a9f9556f5fb0",
        "id": "dGyQ8FnO3I56",
        "colab_type": "code",
        "colab": {}
      },
      "source": [
        "# learn.show_results()"
      ],
      "execution_count": 0,
      "outputs": []
    },
    {
      "cell_type": "code",
      "metadata": {
        "id": "qm6r91k0rWN8",
        "colab_type": "code",
        "colab": {}
      },
      "source": [
        "# predictions\n",
        "# learn.get_preds()\n",
        "# df[\"text\"].iloc[5]"
      ],
      "execution_count": 0,
      "outputs": []
    },
    {
      "cell_type": "code",
      "metadata": {
        "trusted": true,
        "_uuid": "cc57bbef8b63950b1a9b885e2c26b091c7abded3",
        "id": "XiJgXnSe3I5_",
        "colab_type": "code",
        "colab": {}
      },
      "source": [
        "# probs = np.mean(np.exp(preds),0)\n",
        "# # probs = np.mean(np.exp(preds),dtype=np.float32)\n"
      ],
      "execution_count": 0,
      "outputs": []
    },
    {
      "cell_type": "code",
      "metadata": {
        "id": "MkF7MEV8o1OH",
        "colab_type": "code",
        "colab": {}
      },
      "source": [
        "# preds = np.argmax(probs, axis=1)\n",
        "# probs = probs[:,1]\n",
        "\n",
        "# from sklearn.metrics import confusion_matrix\n",
        "# cm = confusion_matrix(y, preds)\n",
        "\n",
        "# plot_confusion_matrix(cm, data.classes)"
      ],
      "execution_count": 0,
      "outputs": []
    },
    {
      "cell_type": "code",
      "metadata": {
        "trusted": true,
        "_uuid": "c684fb63e9513321107cf4f7ccd7ded2c9e6ca38",
        "id": "dTFxkcb_3I6B",
        "colab_type": "code",
        "colab": {}
      },
      "source": [
        "# Language model data\n",
        "#data_lm = TextLMDataBunch.from_df(train_df = df_trn, valid_df = df_val, path = \"\")\n",
        "\n",
        "# Classifier model data\n",
        "#data_clas = TextClasDataBunch.from_df(path = \"\", train_df = df_trn, valid_df = df_val, vocab=data_lm.train_ds.vocab, bs=32)"
      ],
      "execution_count": 0,
      "outputs": []
    },
    {
      "cell_type": "code",
      "metadata": {
        "trusted": true,
        "_uuid": "9ab49a54e0e243fe3e2b4fbee33c1da13c87bc26",
        "id": "PuYmLqzh3I6F",
        "colab_type": "code",
        "colab": {}
      },
      "source": [
        "#type(learn.data.test_dl)"
      ],
      "execution_count": 0,
      "outputs": []
    },
    {
      "cell_type": "code",
      "metadata": {
        "trusted": true,
        "_uuid": "01cf1d5f3508203ad8d887b88df62b080dbfd016",
        "id": "U1wQOim63I6H",
        "colab_type": "code",
        "colab": {}
      },
      "source": [
        "# probs, _ = learn.get_preds(DatasetType.Test)"
      ],
      "execution_count": 0,
      "outputs": []
    },
    {
      "cell_type": "code",
      "metadata": {
        "trusted": true,
        "_uuid": "725ce477a1f9a6f4ba571ed4a70b6e1a1cafaeaf",
        "id": "w2L8WlJk3I6J",
        "colab_type": "code",
        "colab": {}
      },
      "source": [
        "# probs.shape"
      ],
      "execution_count": 0,
      "outputs": []
    },
    {
      "cell_type": "code",
      "metadata": {
        "trusted": true,
        "_uuid": "291a2ff0c86f76b4a7c023bef4e777fec2312e5f",
        "id": "psp8elFQ3I6L",
        "colab_type": "code",
        "colab": {}
      },
      "source": [
        "# probs[0]"
      ],
      "execution_count": 0,
      "outputs": []
    },
    {
      "cell_type": "code",
      "metadata": {
        "trusted": true,
        "_uuid": "b978c2359e3a0f9e9cc3fb15298090fa9a6f8eab",
        "id": "Yp8iD-sE3I6N",
        "colab_type": "code",
        "colab": {}
      },
      "source": [
        "# preds = np.argmax(probs, axis=1)"
      ],
      "execution_count": 0,
      "outputs": []
    },
    {
      "cell_type": "code",
      "metadata": {
        "trusted": true,
        "_uuid": "5c5619aaeceb229a774b76129f7a84df5bb63ce1",
        "id": "wYOJ7ELG3I6S",
        "colab_type": "code",
        "colab": {}
      },
      "source": [
        "# ids = df_test[\"PhraseId\"].copy()"
      ],
      "execution_count": 0,
      "outputs": []
    },
    {
      "cell_type": "code",
      "metadata": {
        "trusted": true,
        "_uuid": "b0b78c3142133f41ba7238e1cb03ba3b15e64b69",
        "id": "i8cvUAf-3I6X",
        "colab_type": "code",
        "colab": {}
      },
      "source": [
        "# # submission = pd.DataFrame(data={\n",
        "#     \"PhraseId\": ids,\n",
        "#     \"Sentiment\": preds\n",
        "# })\n",
        "# submission.to_csv(\"submission.csv\", index=False)\n",
        "# submission.head(n=10)"
      ],
      "execution_count": 0,
      "outputs": []
    },
    {
      "cell_type": "code",
      "metadata": {
        "trusted": true,
        "_uuid": "410a06aae0108fc975608018fee5efaabd868138",
        "id": "48JPSNqx3I6c",
        "colab_type": "code",
        "colab": {}
      },
      "source": [
        "#df.head()"
      ],
      "execution_count": 0,
      "outputs": []
    },
    {
      "cell_type": "code",
      "metadata": {
        "trusted": true,
        "_uuid": "e2c4aa73684f47de9bd3b290a7d378ffebb20d52",
        "id": "zPclxEp83I6h",
        "colab_type": "code",
        "colab": {}
      },
      "source": [
        "#from sklearn.model_selection import train_test_split\n",
        "\n",
        "# split data into training and validation set\n",
        "#df_trn, df_val = train_test_split(df, stratify = df['target'], test_size = 0.4, random_state = 12)"
      ],
      "execution_count": 0,
      "outputs": []
    },
    {
      "cell_type": "code",
      "metadata": {
        "trusted": true,
        "_uuid": "224a2689d306bd4c6a5d2ce1ee05100229fc40ab",
        "id": "q6pDnIY03I6k",
        "colab_type": "code",
        "colab": {}
      },
      "source": [
        "# Language model data\n",
        "#data_lm = TextLMDataBunch.from_df(train_df = df_trn, valid_df = df_val, path = \"../input\")\n"
      ],
      "execution_count": 0,
      "outputs": []
    },
    {
      "cell_type": "code",
      "metadata": {
        "trusted": true,
        "_uuid": "b4495c31130992bfc20cc46f1f2a2a1d94e090bf",
        "id": "fItw-tcU3I6n",
        "colab_type": "code",
        "colab": {}
      },
      "source": [
        "\n",
        "# Classifier model data\n",
        "#data_clas = TextClasDataBunch.from_df(path = \"\", train_df = df_trn, valid_df = df_val, vocab=data_lm.train_ds.vocab, bs=32)"
      ],
      "execution_count": 0,
      "outputs": []
    },
    {
      "cell_type": "code",
      "metadata": {
        "trusted": true,
        "_uuid": "a23d7761870609880ab08b470562267107fc51a1",
        "id": "fDugvIdk3I6s",
        "colab_type": "code",
        "colab": {}
      },
      "source": [
        ""
      ],
      "execution_count": 0,
      "outputs": []
    }
  ]
}