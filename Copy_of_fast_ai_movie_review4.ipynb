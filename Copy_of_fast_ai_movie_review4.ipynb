{
  "nbformat": 4,
  "nbformat_minor": 0,
  "metadata": {
    "colab": {
      "name": "Copy of fast-ai-movie-review.ipynb",
      "version": "0.3.2",
      "provenance": [],
      "collapsed_sections": [],
      "include_colab_link": true
    },
    "kernelspec": {
      "name": "python3",
      "display_name": "Python 3"
    },
    "accelerator": "GPU"
  },
  "cells": [
    {
      "cell_type": "markdown",
      "metadata": {
        "id": "view-in-github",
        "colab_type": "text"
      },
      "source": [
        "<a href=\"https://colab.research.google.com/github/tarun201/FastAI_movie_reviews/blob/master/Copy_of_fast_ai_movie_review4.ipynb\" target=\"_parent\"><img src=\"https://colab.research.google.com/assets/colab-badge.svg\" alt=\"Open In Colab\"/></a>"
      ]
    },
    {
      "cell_type": "markdown",
      "metadata": {
        "id": "2s4m0Q2s97KT",
        "colab_type": "text"
      },
      "source": [
        "# [fast_ai_movie_review](https://github.com/navneetkrc/Colab_fastai/blob/master/NLP/fast_ai_movie_review.ipynb)\n",
        "\n"
      ]
    },
    {
      "cell_type": "code",
      "metadata": {
        "id": "T3xR6RnE3RoQ",
        "colab_type": "code",
        "colab": {}
      },
      "source": [
        "!pip install torch_nightly -f https://download.pytorch.org/whl/nightly/cu92/torch_nightly.html\n",
        "!pip install fastai"
      ],
      "execution_count": 0,
      "outputs": []
    },
    {
      "cell_type": "code",
      "metadata": {
        "_cell_guid": "79c7e3d0-c299-4dcb-8224-4455121ee9b0",
        "_uuid": "d629ff2d2480ee46fbb7e2d37f6b5fab8052498a",
        "trusted": true,
        "id": "ZVuf9oCT3I3_",
        "colab_type": "code",
        "colab": {}
      },
      "source": [
        "from fastai import *\n",
        "from fastai.text import * \n",
        "from fastai.gen_doc.nbdoc import *\n",
        "from fastai.datasets import * \n",
        "from fastai.datasets import Config\n",
        "from pathlib import Path\n",
        "import numpy as np # linear algebra\n",
        "import pandas as pd # data processing, CSV file I/O (e.g. pd.read_csv)\n"
      ],
      "execution_count": 0,
      "outputs": []
    },
    {
      "cell_type": "code",
      "metadata": {
        "trusted": true,
        "_uuid": "d08b105a3cd79cb396ba624f076ab0d8b6b59178",
        "id": "JP7HjzAd3I4D",
        "colab_type": "code",
        "colab": {}
      },
      "source": [
        "#import fastai; \n",
        "#fastai.show_install(1)\n",
        "!ls"
      ],
      "execution_count": 0,
      "outputs": []
    },
    {
      "cell_type": "markdown",
      "metadata": {
        "id": "3KemXcxbFr3x",
        "colab_type": "text"
      },
      "source": [
        "Download data manually from [here](https://www.kaggle.com/c/sentiment-analysis-on-movie-reviews/data)\n",
        "\n",
        "Then upload it on colab using below codes"
      ]
    },
    {
      "cell_type": "code",
      "metadata": {
        "id": "jXxGfd5_Fks4",
        "colab_type": "code",
        "colab": {}
      },
      "source": [
        "from google.colab import files\n",
        "files.upload()"
      ],
      "execution_count": 0,
      "outputs": []
    },
    {
      "cell_type": "code",
      "metadata": {
        "id": "cukHWHoC3856",
        "colab_type": "code",
        "colab": {}
      },
      "source": [
        "# !pip install -U -q kaggle\n",
        "# !echo '{\"username\":\"username\",\"key\":\"XXxxxxxxxxxxxxxx\"}'> ~/.kaggle/kaggle.json  # Replace\n",
        "# #!chmod 600 kaggle.json"
      ],
      "execution_count": 0,
      "outputs": []
    },
    {
      "cell_type": "code",
      "metadata": {
        "id": "V2TPCRoztapM",
        "colab_type": "code",
        "colab": {}
      },
      "source": [
        "!unzip sentiment-analysis-on-movie-reviews.zip"
      ],
      "execution_count": 0,
      "outputs": []
    },
    {
      "cell_type": "code",
      "metadata": {
        "id": "b38H_iDdGM9e",
        "colab_type": "code",
        "colab": {}
      },
      "source": [
        "# !mkdir -p ~/.kaggle\n",
        "# !mkdir -p input\n",
        "!ls input"
      ],
      "execution_count": 0,
      "outputs": []
    },
    {
      "cell_type": "markdown",
      "metadata": {
        "id": "M1ZnkHcQMJB4",
        "colab_type": "text"
      },
      "source": [
        "Move the \"test.tsv\" & \"train.tsv\" file to the folder \"input\""
      ]
    },
    {
      "cell_type": "code",
      "metadata": {
        "id": "GTt-3t6BMQUD",
        "colab_type": "code",
        "colab": {}
      },
      "source": [
        "!mv test.tsv train.tsv input/"
      ],
      "execution_count": 0,
      "outputs": []
    },
    {
      "cell_type": "code",
      "metadata": {
        "id": "bgcOr_X44NC6",
        "colab_type": "code",
        "colab": {}
      },
      "source": [
        "# !kaggle competitions download -c sentiment-analysis-on-movie-reviews"
      ],
      "execution_count": 0,
      "outputs": []
    },
    {
      "cell_type": "code",
      "metadata": {
        "id": "eOocQ4dg4TYq",
        "colab_type": "code",
        "colab": {}
      },
      "source": [
        "# !unzip test.tsv.zip -d input\n",
        "# !unzip train.tsv.zip -d input\n",
        "# !mv sampleSubmission.csv input/"
      ],
      "execution_count": 0,
      "outputs": []
    },
    {
      "cell_type": "code",
      "metadata": {
        "trusted": true,
        "_uuid": "1f5409d6adbde548770c6482e1a03ae532628762",
        "id": "QgbmobLP3I4I",
        "colab_type": "code",
        "colab": {}
      },
      "source": [
        "path = Path('../input/')\n",
        "path_working = Path('kaggle/')"
      ],
      "execution_count": 0,
      "outputs": []
    },
    {
      "cell_type": "code",
      "metadata": {
        "trusted": true,
        "_uuid": "6e371c073c5af7a8f03e7f89c4e771e1b4c5d23d",
        "id": "B-FqK1g_3I4M",
        "colab_type": "code",
        "outputId": "6f4f49f6-b5ac-4c46-e549-b54084468053",
        "colab": {
          "base_uri": "https://localhost:8080/",
          "height": 204
        }
      },
      "source": [
        "df = pd.read_csv('input/train.tsv', sep=\"\\t\")\n",
        "df.head()"
      ],
      "execution_count": 0,
      "outputs": [
        {
          "output_type": "execute_result",
          "data": {
            "text/html": [
              "<div>\n",
              "<style scoped>\n",
              "    .dataframe tbody tr th:only-of-type {\n",
              "        vertical-align: middle;\n",
              "    }\n",
              "\n",
              "    .dataframe tbody tr th {\n",
              "        vertical-align: top;\n",
              "    }\n",
              "\n",
              "    .dataframe thead th {\n",
              "        text-align: right;\n",
              "    }\n",
              "</style>\n",
              "<table border=\"1\" class=\"dataframe\">\n",
              "  <thead>\n",
              "    <tr style=\"text-align: right;\">\n",
              "      <th></th>\n",
              "      <th>PhraseId</th>\n",
              "      <th>SentenceId</th>\n",
              "      <th>Phrase</th>\n",
              "      <th>Sentiment</th>\n",
              "    </tr>\n",
              "  </thead>\n",
              "  <tbody>\n",
              "    <tr>\n",
              "      <th>0</th>\n",
              "      <td>1</td>\n",
              "      <td>1</td>\n",
              "      <td>A series of escapades demonstrating the adage ...</td>\n",
              "      <td>1</td>\n",
              "    </tr>\n",
              "    <tr>\n",
              "      <th>1</th>\n",
              "      <td>2</td>\n",
              "      <td>1</td>\n",
              "      <td>A series of escapades demonstrating the adage ...</td>\n",
              "      <td>2</td>\n",
              "    </tr>\n",
              "    <tr>\n",
              "      <th>2</th>\n",
              "      <td>3</td>\n",
              "      <td>1</td>\n",
              "      <td>A series</td>\n",
              "      <td>2</td>\n",
              "    </tr>\n",
              "    <tr>\n",
              "      <th>3</th>\n",
              "      <td>4</td>\n",
              "      <td>1</td>\n",
              "      <td>A</td>\n",
              "      <td>2</td>\n",
              "    </tr>\n",
              "    <tr>\n",
              "      <th>4</th>\n",
              "      <td>5</td>\n",
              "      <td>1</td>\n",
              "      <td>series</td>\n",
              "      <td>2</td>\n",
              "    </tr>\n",
              "  </tbody>\n",
              "</table>\n",
              "</div>"
            ],
            "text/plain": [
              "   PhraseId  SentenceId                                             Phrase  \\\n",
              "0         1           1  A series of escapades demonstrating the adage ...   \n",
              "1         2           1  A series of escapades demonstrating the adage ...   \n",
              "2         3           1                                           A series   \n",
              "3         4           1                                                  A   \n",
              "4         5           1                                             series   \n",
              "\n",
              "   Sentiment  \n",
              "0          1  \n",
              "1          2  \n",
              "2          2  \n",
              "3          2  \n",
              "4          2  "
            ]
          },
          "metadata": {
            "tags": []
          },
          "execution_count": 14
        }
      ]
    },
    {
      "cell_type": "code",
      "metadata": {
        "trusted": true,
        "_uuid": "e83a4857d50e0b0756749082838bbb2fb8362f66",
        "id": "6pEOed4A3I4S",
        "colab_type": "code",
        "outputId": "7aac147b-7786-4547-c593-94f91a8b7a12",
        "colab": {
          "base_uri": "https://localhost:8080/",
          "height": 204
        }
      },
      "source": [
        "df['is_valid'] = 0\n",
        "df.head()"
      ],
      "execution_count": 0,
      "outputs": [
        {
          "output_type": "execute_result",
          "data": {
            "text/html": [
              "<div>\n",
              "<style scoped>\n",
              "    .dataframe tbody tr th:only-of-type {\n",
              "        vertical-align: middle;\n",
              "    }\n",
              "\n",
              "    .dataframe tbody tr th {\n",
              "        vertical-align: top;\n",
              "    }\n",
              "\n",
              "    .dataframe thead th {\n",
              "        text-align: right;\n",
              "    }\n",
              "</style>\n",
              "<table border=\"1\" class=\"dataframe\">\n",
              "  <thead>\n",
              "    <tr style=\"text-align: right;\">\n",
              "      <th></th>\n",
              "      <th>PhraseId</th>\n",
              "      <th>SentenceId</th>\n",
              "      <th>text</th>\n",
              "      <th>target</th>\n",
              "      <th>is_valid</th>\n",
              "    </tr>\n",
              "  </thead>\n",
              "  <tbody>\n",
              "    <tr>\n",
              "      <th>0</th>\n",
              "      <td>1</td>\n",
              "      <td>1</td>\n",
              "      <td>A series of escapades demonstrating the adage ...</td>\n",
              "      <td>1</td>\n",
              "      <td>0</td>\n",
              "    </tr>\n",
              "    <tr>\n",
              "      <th>1</th>\n",
              "      <td>2</td>\n",
              "      <td>1</td>\n",
              "      <td>A series of escapades demonstrating the adage ...</td>\n",
              "      <td>2</td>\n",
              "      <td>0</td>\n",
              "    </tr>\n",
              "    <tr>\n",
              "      <th>2</th>\n",
              "      <td>3</td>\n",
              "      <td>1</td>\n",
              "      <td>A series</td>\n",
              "      <td>2</td>\n",
              "      <td>0</td>\n",
              "    </tr>\n",
              "    <tr>\n",
              "      <th>3</th>\n",
              "      <td>4</td>\n",
              "      <td>1</td>\n",
              "      <td>A</td>\n",
              "      <td>2</td>\n",
              "      <td>0</td>\n",
              "    </tr>\n",
              "    <tr>\n",
              "      <th>4</th>\n",
              "      <td>5</td>\n",
              "      <td>1</td>\n",
              "      <td>series</td>\n",
              "      <td>2</td>\n",
              "      <td>0</td>\n",
              "    </tr>\n",
              "  </tbody>\n",
              "</table>\n",
              "</div>"
            ],
            "text/plain": [
              "   PhraseId  SentenceId                                               text  \\\n",
              "0         1           1  A series of escapades demonstrating the adage ...   \n",
              "1         2           1  A series of escapades demonstrating the adage ...   \n",
              "2         3           1                                           A series   \n",
              "3         4           1                                                  A   \n",
              "4         5           1                                             series   \n",
              "\n",
              "   target  is_valid  \n",
              "0       1         0  \n",
              "1       2         0  \n",
              "2       2         0  \n",
              "3       2         0  \n",
              "4       2         0  "
            ]
          },
          "metadata": {
            "tags": []
          },
          "execution_count": 49
        }
      ]
    },
    {
      "cell_type": "code",
      "metadata": {
        "trusted": true,
        "_uuid": "d80cffe895faccccf3b1661a3bb3c205fecea568",
        "id": "BL0_1bGN3I4Y",
        "colab_type": "code",
        "outputId": "ba8f14d7-095e-45b8-b026-927f3ee75a3f",
        "colab": {
          "base_uri": "https://localhost:8080/",
          "height": 204
        }
      },
      "source": [
        "df.loc[:50, 'is_valid'] = 1\n",
        "df.head()"
      ],
      "execution_count": 0,
      "outputs": [
        {
          "output_type": "execute_result",
          "data": {
            "text/html": [
              "<div>\n",
              "<style scoped>\n",
              "    .dataframe tbody tr th:only-of-type {\n",
              "        vertical-align: middle;\n",
              "    }\n",
              "\n",
              "    .dataframe tbody tr th {\n",
              "        vertical-align: top;\n",
              "    }\n",
              "\n",
              "    .dataframe thead th {\n",
              "        text-align: right;\n",
              "    }\n",
              "</style>\n",
              "<table border=\"1\" class=\"dataframe\">\n",
              "  <thead>\n",
              "    <tr style=\"text-align: right;\">\n",
              "      <th></th>\n",
              "      <th>PhraseId</th>\n",
              "      <th>SentenceId</th>\n",
              "      <th>text</th>\n",
              "      <th>target</th>\n",
              "      <th>is_valid</th>\n",
              "    </tr>\n",
              "  </thead>\n",
              "  <tbody>\n",
              "    <tr>\n",
              "      <th>0</th>\n",
              "      <td>1</td>\n",
              "      <td>1</td>\n",
              "      <td>A series of escapades demonstrating the adage ...</td>\n",
              "      <td>1</td>\n",
              "      <td>1</td>\n",
              "    </tr>\n",
              "    <tr>\n",
              "      <th>1</th>\n",
              "      <td>2</td>\n",
              "      <td>1</td>\n",
              "      <td>A series of escapades demonstrating the adage ...</td>\n",
              "      <td>2</td>\n",
              "      <td>1</td>\n",
              "    </tr>\n",
              "    <tr>\n",
              "      <th>2</th>\n",
              "      <td>3</td>\n",
              "      <td>1</td>\n",
              "      <td>A series</td>\n",
              "      <td>2</td>\n",
              "      <td>1</td>\n",
              "    </tr>\n",
              "    <tr>\n",
              "      <th>3</th>\n",
              "      <td>4</td>\n",
              "      <td>1</td>\n",
              "      <td>A</td>\n",
              "      <td>2</td>\n",
              "      <td>1</td>\n",
              "    </tr>\n",
              "    <tr>\n",
              "      <th>4</th>\n",
              "      <td>5</td>\n",
              "      <td>1</td>\n",
              "      <td>series</td>\n",
              "      <td>2</td>\n",
              "      <td>1</td>\n",
              "    </tr>\n",
              "  </tbody>\n",
              "</table>\n",
              "</div>"
            ],
            "text/plain": [
              "   PhraseId  SentenceId                                               text  \\\n",
              "0         1           1  A series of escapades demonstrating the adage ...   \n",
              "1         2           1  A series of escapades demonstrating the adage ...   \n",
              "2         3           1                                           A series   \n",
              "3         4           1                                                  A   \n",
              "4         5           1                                             series   \n",
              "\n",
              "   target  is_valid  \n",
              "0       1         1  \n",
              "1       2         1  \n",
              "2       2         1  \n",
              "3       2         1  \n",
              "4       2         1  "
            ]
          },
          "metadata": {
            "tags": []
          },
          "execution_count": 50
        }
      ]
    },
    {
      "cell_type": "code",
      "metadata": {
        "trusted": true,
        "_uuid": "2e732da3a9dd7ed5f6d37901ee92db09c3c4e6b3",
        "id": "0dMFKE5k3I4d",
        "colab_type": "code",
        "outputId": "7e8c1113-0271-4bbf-853d-858b3d65b259",
        "colab": {
          "base_uri": "https://localhost:8080/",
          "height": 204
        }
      },
      "source": [
        "df_test = pd.read_csv('input/test.tsv', sep=\"\\t\")\n",
        "df_test.head()"
      ],
      "execution_count": 0,
      "outputs": [
        {
          "output_type": "execute_result",
          "data": {
            "text/html": [
              "<div>\n",
              "<style scoped>\n",
              "    .dataframe tbody tr th:only-of-type {\n",
              "        vertical-align: middle;\n",
              "    }\n",
              "\n",
              "    .dataframe tbody tr th {\n",
              "        vertical-align: top;\n",
              "    }\n",
              "\n",
              "    .dataframe thead th {\n",
              "        text-align: right;\n",
              "    }\n",
              "</style>\n",
              "<table border=\"1\" class=\"dataframe\">\n",
              "  <thead>\n",
              "    <tr style=\"text-align: right;\">\n",
              "      <th></th>\n",
              "      <th>PhraseId</th>\n",
              "      <th>SentenceId</th>\n",
              "      <th>Phrase</th>\n",
              "    </tr>\n",
              "  </thead>\n",
              "  <tbody>\n",
              "    <tr>\n",
              "      <th>0</th>\n",
              "      <td>156061</td>\n",
              "      <td>8545</td>\n",
              "      <td>An intermittently pleasing but mostly routine ...</td>\n",
              "    </tr>\n",
              "    <tr>\n",
              "      <th>1</th>\n",
              "      <td>156062</td>\n",
              "      <td>8545</td>\n",
              "      <td>An intermittently pleasing but mostly routine ...</td>\n",
              "    </tr>\n",
              "    <tr>\n",
              "      <th>2</th>\n",
              "      <td>156063</td>\n",
              "      <td>8545</td>\n",
              "      <td>An</td>\n",
              "    </tr>\n",
              "    <tr>\n",
              "      <th>3</th>\n",
              "      <td>156064</td>\n",
              "      <td>8545</td>\n",
              "      <td>intermittently pleasing but mostly routine effort</td>\n",
              "    </tr>\n",
              "    <tr>\n",
              "      <th>4</th>\n",
              "      <td>156065</td>\n",
              "      <td>8545</td>\n",
              "      <td>intermittently pleasing but mostly routine</td>\n",
              "    </tr>\n",
              "  </tbody>\n",
              "</table>\n",
              "</div>"
            ],
            "text/plain": [
              "   PhraseId  SentenceId                                             Phrase\n",
              "0    156061        8545  An intermittently pleasing but mostly routine ...\n",
              "1    156062        8545  An intermittently pleasing but mostly routine ...\n",
              "2    156063        8545                                                 An\n",
              "3    156064        8545  intermittently pleasing but mostly routine effort\n",
              "4    156065        8545         intermittently pleasing but mostly routine"
            ]
          },
          "metadata": {
            "tags": []
          },
          "execution_count": 51
        }
      ]
    },
    {
      "cell_type": "code",
      "metadata": {
        "trusted": true,
        "_uuid": "95cc89b4273244a4919bd2f8b0631a18b1621f0e",
        "id": "fxUmHm083I4i",
        "colab_type": "code",
        "colab": {}
      },
      "source": [
        "df.rename(index=str, columns={\"Phrase\": \"text\", \"Sentiment\": \"target\"},inplace=True)"
      ],
      "execution_count": 0,
      "outputs": []
    },
    {
      "cell_type": "code",
      "metadata": {
        "trusted": true,
        "_uuid": "e1c2fff99ef82aff6ea4dbaecfc1a83167ab34d5",
        "id": "hh7uU55T3I4u",
        "colab_type": "code",
        "colab": {}
      },
      "source": [
        "df_test.rename(index=str, columns={\"Phrase\": \"text\", \"Sentiment\": \"target\"},inplace=True)"
      ],
      "execution_count": 0,
      "outputs": []
    },
    {
      "cell_type": "code",
      "metadata": {
        "trusted": true,
        "_uuid": "e7ca3727c8ff7c0b812f4d994033024653c59ba9",
        "id": "l7StT3mF3I4y",
        "colab_type": "code",
        "colab": {}
      },
      "source": [
        "df_test['is_valid'] = 0"
      ],
      "execution_count": 0,
      "outputs": []
    },
    {
      "cell_type": "code",
      "metadata": {
        "trusted": true,
        "_uuid": "2c2622aaf70ce8d6cb9be012b2b691d99746fe8a",
        "id": "wxXub3IK3I43",
        "colab_type": "code",
        "colab": {}
      },
      "source": [
        "df_test.to_csv(f'test.csv', index=False)"
      ],
      "execution_count": 0,
      "outputs": []
    },
    {
      "cell_type": "code",
      "metadata": {
        "trusted": true,
        "_uuid": "038293097a31e6b6765d5c2e421566769019c5b6",
        "id": "FTgCYkA93I46",
        "colab_type": "code",
        "colab": {}
      },
      "source": [
        "df.to_csv(f'train.csv', index=False)"
      ],
      "execution_count": 0,
      "outputs": []
    },
    {
      "cell_type": "code",
      "metadata": {
        "id": "blANYp8W8VZf",
        "colab_type": "code",
        "outputId": "882af240-09ea-43a9-d52d-ed5ea6739dbe",
        "colab": {
          "base_uri": "https://localhost:8080/",
          "height": 34
        }
      },
      "source": [
        "!mkdir kaggle\n",
        "!mv train.csv kaggle/\n",
        "!mv test.csv kaggle/"
      ],
      "execution_count": 0,
      "outputs": [
        {
          "output_type": "stream",
          "text": [
            "mkdir: cannot create directory ‘kaggle’: File exists\n"
          ],
          "name": "stdout"
        }
      ]
    },
    {
      "cell_type": "code",
      "metadata": {
        "trusted": true,
        "_uuid": "e06e20b2f6532905ce932bc582fe8e62d36ad140",
        "id": "yx5tFT0K3I4_",
        "colab_type": "code",
        "outputId": "7c14bdf4-792c-4c3d-813a-1cec652ae6ee",
        "colab": {
          "base_uri": "https://localhost:8080/",
          "height": 204
        }
      },
      "source": [
        "df_mod = pd.read_csv('kaggle/train.csv')\n",
        "df_mod.head()"
      ],
      "execution_count": 0,
      "outputs": [
        {
          "output_type": "execute_result",
          "data": {
            "text/html": [
              "<div>\n",
              "<style scoped>\n",
              "    .dataframe tbody tr th:only-of-type {\n",
              "        vertical-align: middle;\n",
              "    }\n",
              "\n",
              "    .dataframe tbody tr th {\n",
              "        vertical-align: top;\n",
              "    }\n",
              "\n",
              "    .dataframe thead th {\n",
              "        text-align: right;\n",
              "    }\n",
              "</style>\n",
              "<table border=\"1\" class=\"dataframe\">\n",
              "  <thead>\n",
              "    <tr style=\"text-align: right;\">\n",
              "      <th></th>\n",
              "      <th>PhraseId</th>\n",
              "      <th>SentenceId</th>\n",
              "      <th>text</th>\n",
              "      <th>target</th>\n",
              "      <th>is_valid</th>\n",
              "    </tr>\n",
              "  </thead>\n",
              "  <tbody>\n",
              "    <tr>\n",
              "      <th>0</th>\n",
              "      <td>1</td>\n",
              "      <td>1</td>\n",
              "      <td>A series of escapades demonstrating the adage ...</td>\n",
              "      <td>1</td>\n",
              "      <td>1</td>\n",
              "    </tr>\n",
              "    <tr>\n",
              "      <th>1</th>\n",
              "      <td>2</td>\n",
              "      <td>1</td>\n",
              "      <td>A series of escapades demonstrating the adage ...</td>\n",
              "      <td>2</td>\n",
              "      <td>1</td>\n",
              "    </tr>\n",
              "    <tr>\n",
              "      <th>2</th>\n",
              "      <td>3</td>\n",
              "      <td>1</td>\n",
              "      <td>A series</td>\n",
              "      <td>2</td>\n",
              "      <td>1</td>\n",
              "    </tr>\n",
              "    <tr>\n",
              "      <th>3</th>\n",
              "      <td>4</td>\n",
              "      <td>1</td>\n",
              "      <td>A</td>\n",
              "      <td>2</td>\n",
              "      <td>1</td>\n",
              "    </tr>\n",
              "    <tr>\n",
              "      <th>4</th>\n",
              "      <td>5</td>\n",
              "      <td>1</td>\n",
              "      <td>series</td>\n",
              "      <td>2</td>\n",
              "      <td>1</td>\n",
              "    </tr>\n",
              "  </tbody>\n",
              "</table>\n",
              "</div>"
            ],
            "text/plain": [
              "   PhraseId  SentenceId                                               text  \\\n",
              "0         1           1  A series of escapades demonstrating the adage ...   \n",
              "1         2           1  A series of escapades demonstrating the adage ...   \n",
              "2         3           1                                           A series   \n",
              "3         4           1                                                  A   \n",
              "4         5           1                                             series   \n",
              "\n",
              "   target  is_valid  \n",
              "0       1         1  \n",
              "1       2         1  \n",
              "2       2         1  \n",
              "3       2         1  \n",
              "4       2         1  "
            ]
          },
          "metadata": {
            "tags": []
          },
          "execution_count": 58
        }
      ]
    },
    {
      "cell_type": "code",
      "metadata": {
        "id": "lqOvtiXI9MIm",
        "colab_type": "code",
        "outputId": "8c598af8-8e3c-4996-cfe0-47e998c5e6f7",
        "colab": {
          "base_uri": "https://localhost:8080/",
          "height": 34
        }
      },
      "source": [
        "path_working"
      ],
      "execution_count": 0,
      "outputs": [
        {
          "output_type": "execute_result",
          "data": {
            "text/plain": [
              "PosixPath('kaggle')"
            ]
          },
          "metadata": {
            "tags": []
          },
          "execution_count": 59
        }
      ]
    },
    {
      "cell_type": "markdown",
      "metadata": {
        "id": "dLL0PeNkK6G9",
        "colab_type": "text"
      },
      "source": [
        "#Added BatchSize=60 for LanguageModel"
      ]
    },
    {
      "cell_type": "code",
      "metadata": {
        "trusted": true,
        "_uuid": "fbdbad59ff880a54f93e70a06ca98ad9edcfffe4",
        "id": "ChQ9kKLE3I5C",
        "colab_type": "code",
        "colab": {}
      },
      "source": [
        "data_lm = (TextList.from_csv(path_working, 'train.csv', cols='text') \n",
        "                   .random_split_by_pct()\n",
        "                   .label_for_lm()\n",
        "                   .add_test(TextList.from_csv(path_working, 'test.csv', cols='text'))\n",
        "                   .databunch(bs=60))"
      ],
      "execution_count": 0,
      "outputs": []
    },
    {
      "cell_type": "markdown",
      "metadata": {
        "id": "9TsfVR4_VJRn",
        "colab_type": "text"
      },
      "source": [
        "#Dropped the dropoutRate from 0.7 to 0.5 for LanguageModel\n",
        "\n"
      ]
    },
    {
      "cell_type": "code",
      "metadata": {
        "trusted": true,
        "_uuid": "30bd5508d259263b43bed09c6d7f1296aa30427c",
        "id": "gHi6i0YF3I5G",
        "colab_type": "code",
        "outputId": "da905d1d-fb49-4cc4-9ab2-fba552121706",
        "colab": {
          "base_uri": "https://localhost:8080/",
          "height": 510
        }
      },
      "source": [
        "learn = language_model_learner(data_lm, AWD_LSTM, drop_mult=0.5)\n",
        "#learn = language_model_learner(data_lm, pretrained_model=URLs.WT103, drop_mult=0.7)\n",
        "learn.model"
      ],
      "execution_count": 129,
      "outputs": [
        {
          "output_type": "execute_result",
          "data": {
            "text/plain": [
              "SequentialRNN(\n",
              "  (0): AWD_LSTM(\n",
              "    (encoder): Embedding(15082, 400, padding_idx=1)\n",
              "    (encoder_dp): EmbeddingDropout(\n",
              "      (emb): Embedding(15082, 400, padding_idx=1)\n",
              "    )\n",
              "    (rnns): ModuleList(\n",
              "      (0): WeightDropout(\n",
              "        (module): LSTM(400, 1150, batch_first=True)\n",
              "      )\n",
              "      (1): WeightDropout(\n",
              "        (module): LSTM(1150, 1150, batch_first=True)\n",
              "      )\n",
              "      (2): WeightDropout(\n",
              "        (module): LSTM(1150, 400, batch_first=True)\n",
              "      )\n",
              "    )\n",
              "    (input_dp): RNNDropout()\n",
              "    (hidden_dps): ModuleList(\n",
              "      (0): RNNDropout()\n",
              "      (1): RNNDropout()\n",
              "      (2): RNNDropout()\n",
              "    )\n",
              "  )\n",
              "  (1): LinearDecoder(\n",
              "    (decoder): Linear(in_features=400, out_features=15082, bias=True)\n",
              "    (output_dp): RNNDropout()\n",
              "  )\n",
              ")"
            ]
          },
          "metadata": {
            "tags": []
          },
          "execution_count": 129
        }
      ]
    },
    {
      "cell_type": "code",
      "metadata": {
        "trusted": true,
        "_uuid": "9aa37d4afd900beed3d3d8a9254e6b115c8ddb65",
        "id": "NTGqg5Db3I5J",
        "colab_type": "code",
        "outputId": "86d17c07-dfdf-4104-c301-f7908b86f8a7",
        "colab": {
          "base_uri": "https://localhost:8080/",
          "height": 34
        }
      },
      "source": [
        "learn.lr_find()"
      ],
      "execution_count": 130,
      "outputs": [
        {
          "output_type": "display_data",
          "data": {
            "text/html": [
              ""
            ],
            "text/plain": [
              "<IPython.core.display.HTML object>"
            ]
          },
          "metadata": {
            "tags": []
          }
        },
        {
          "output_type": "stream",
          "text": [
            "LR Finder is complete, type {learner_name}.recorder.plot() to see the graph.\n"
          ],
          "name": "stdout"
        }
      ]
    },
    {
      "cell_type": "code",
      "metadata": {
        "trusted": true,
        "_uuid": "7aa35ac60eb6278ba2dfd66c56e34255685013b6",
        "id": "RtmbLc8C3I5K",
        "colab_type": "code",
        "outputId": "ed38d7b5-8d2f-45ab-9509-dd03c0863f9d",
        "colab": {
          "base_uri": "https://localhost:8080/",
          "height": 283
        }
      },
      "source": [
        "learn.recorder.plot()"
      ],
      "execution_count": 131,
      "outputs": [
        {
          "output_type": "display_data",
          "data": {
            "image/png": "[encoded data removed]",
            "text/plain": [
              "<Figure size 432x288 with 1 Axes>"
            ]
          },
          "metadata": {
            "tags": []
          }
        }
      ]
    },
    {
      "cell_type": "code",
      "metadata": {
        "trusted": true,
        "_uuid": "05bae1b737b7b41eeb4f050d418bfe6f37e0be37",
        "id": "ptv6sNjD3I5Q",
        "colab_type": "code",
        "outputId": "75784724-e706-41b7-d761-105d8d9e7929",
        "colab": {
          "base_uri": "https://localhost:8080/",
          "height": 111
        }
      },
      "source": [
        "learn.fit_one_cycle(2, 1e-2)"
      ],
      "execution_count": 132,
      "outputs": [
        {
          "output_type": "display_data",
          "data": {
            "text/html": [
              "<table border=\"1\" class=\"dataframe\">\n",
              "  <thead>\n",
              "    <tr style=\"text-align: left;\">\n",
              "      <th>epoch</th>\n",
              "      <th>train_loss</th>\n",
              "      <th>valid_loss</th>\n",
              "      <th>accuracy</th>\n",
              "      <th>time</th>\n",
              "    </tr>\n",
              "  </thead>\n",
              "  <tbody>\n",
              "    <tr>\n",
              "      <td>0</td>\n",
              "      <td>4.601592</td>\n",
              "      <td>4.048631</td>\n",
              "      <td>0.322906</td>\n",
              "      <td>00:58</td>\n",
              "    </tr>\n",
              "    <tr>\n",
              "      <td>1</td>\n",
              "      <td>3.968310</td>\n",
              "      <td>3.709355</td>\n",
              "      <td>0.360112</td>\n",
              "      <td>01:01</td>\n",
              "    </tr>\n",
              "  </tbody>\n",
              "</table>"
            ],
            "text/plain": [
              "<IPython.core.display.HTML object>"
            ]
          },
          "metadata": {
            "tags": []
          }
        }
      ]
    },
    {
      "cell_type": "markdown",
      "metadata": {
        "id": "C2nrfxXZSMe7",
        "colab_type": "text"
      },
      "source": [
        "**Accuracy increased from 0.34 to 0.36 due to increase in BatchSize and reduce in DropoutRate**"
      ]
    },
    {
      "cell_type": "code",
      "metadata": {
        "id": "jVBlX-8QwqnW",
        "colab_type": "code",
        "colab": {}
      },
      "source": [
        "learn.save('mini_train_lm')\n",
        "learn.save_encoder('mini_train_encoder')"
      ],
      "execution_count": 0,
      "outputs": []
    },
    {
      "cell_type": "code",
      "metadata": {
        "id": "6pUmWASVTELc",
        "colab_type": "code",
        "colab": {}
      },
      "source": [
        "#load the encoder models in models folder\n",
        "# !mkdir kaggle/models\n",
        "# !mv mini_train_encoder.pth kaggle/models/\n",
        "# !mv mini_train_lm.pth kaggle/models/"
      ],
      "execution_count": 0,
      "outputs": []
    },
    {
      "cell_type": "code",
      "metadata": {
        "id": "M3XxB3ike35K",
        "colab_type": "code",
        "colab": {}
      },
      "source": [
        "#learn.load_encoder('ft_enc53')\n",
        "learn.load_encoder('mini_train_encoder')"
      ],
      "execution_count": 0,
      "outputs": []
    },
    {
      "cell_type": "code",
      "metadata": {
        "trusted": true,
        "_uuid": "33e7a78b2f2c70a516e666f960419ad510f58ada",
        "id": "90YdG-mo3I5V",
        "colab_type": "code",
        "outputId": "f3cde306-4e7e-4964-b7c8-2e308872e9e6",
        "colab": {
          "base_uri": "https://localhost:8080/",
          "height": 289
        }
      },
      "source": [
        "learn.show_results()"
      ],
      "execution_count": 136,
      "outputs": [
        {
          "output_type": "display_data",
          "data": {
            "text/html": [
              "<table border=\"1\" class=\"dataframe\">\n",
              "  <thead>\n",
              "    <tr style=\"text-align: right;\">\n",
              "      <th>text</th>\n",
              "      <th>target</th>\n",
              "      <th>pred</th>\n",
              "    </tr>\n",
              "  </thead>\n",
              "  <tbody>\n",
              "    <tr>\n",
              "      <td>xxbos noble , trembling incoherence xxbos collapses into an inhalant blackout , xxbos should n't stop die - hard xxmaj</td>\n",
              "      <td>french film connoisseurs from going out and enjoying the big - screen experience xxbos first - rate , especially xxmaj</td>\n",
              "      <td>hollywood xxbos xxbos xxbos being into of xxbos it movie screen screen blowout xxbos xxmaj - time xxbos xxbos when</td>\n",
              "    </tr>\n",
              "    <tr>\n",
              "      <td>xxbos working poor xxbos punch and depth xxbos xxmaj benjamins ' elements xxbos xxmaj overall , it 's a very</td>\n",
              "      <td>entertaining , thought - provoking film with a simple message : xxmaj god is love xxbos that can no longer</td>\n",
              "      <td>good and entertaining - provoking film that a few , that a it is a xxbos xxmaj it be longer</td>\n",
              "    </tr>\n",
              "    <tr>\n",
              "      <td>document both sides of this emotional car - wreck xxbos xxmaj spike xxmaj lee xxbos make it entertaining xxbos a</td>\n",
              "      <td>harsh conceptual exercise xxbos spells xxbos anguish and xxbos color sense xxbos xxmaj nanette xxbos xxmaj the big ending surprise</td>\n",
              "      <td>movie , exercise xxbos xxmaj a xxmaj xxbos ache xxmaj and xxbos xxmaj the xxbos xxmaj the xxmaj screen xxbos</td>\n",
              "    </tr>\n",
              "    <tr>\n",
              "      <td>xxup -lrb- xxmaj reversal of xxmaj fortune xxup -rrb- xxbos xxmaj sullivan and his son xxbos it 's not a</td>\n",
              "      <td>very good movie in any objective sense xxbos simple but xxbos own placid way xxbos i hoped i would --</td>\n",
              "      <td>movie good movie xxbos the way way , xxmaj , ultimately xxmaj way way xxbos xxmaj ' to would have</td>\n",
              "    </tr>\n",
              "    <tr>\n",
              "      <td>way xxbos is clear : xxmaj not easily and , in the end , not well enough . xxbos ,</td>\n",
              "      <td>xxmaj the xxmaj hours represents two of those well spent xxbos retro gang melodrama xxbos the minds of the audience</td>\n",
              "      <td>xxbos the xxmaj sum xxbos a of the films - xxbos xxmaj - lore xxbos xxmaj film and the filmmakers</td>\n",
              "    </tr>\n",
              "  </tbody>\n",
              "</table>"
            ],
            "text/plain": [
              "<IPython.core.display.HTML object>"
            ]
          },
          "metadata": {
            "tags": []
          }
        }
      ]
    },
    {
      "cell_type": "code",
      "metadata": {
        "id": "-LpV15rgELPg",
        "colab_type": "code",
        "colab": {}
      },
      "source": [
        "# !nvidia-smi"
      ],
      "execution_count": 0,
      "outputs": []
    },
    {
      "cell_type": "code",
      "metadata": {
        "trusted": true,
        "_uuid": "8aa7a3a5c53b89de71b4892719d23a516fcae41b",
        "id": "7TGCGLFK3I5Z",
        "colab_type": "code",
        "colab": {}
      },
      "source": [
        "# ??TextList.from_csv"
      ],
      "execution_count": 0,
      "outputs": []
    },
    {
      "cell_type": "code",
      "metadata": {
        "trusted": true,
        "_uuid": "d2fdf3a451654b18e319654b2301601a845cb9c0",
        "id": "IycQaTx43I5c",
        "colab_type": "code",
        "colab": {}
      },
      "source": [
        "# data_clas = (TextList.from_csv(path_working, 'train.csv',cols='text', vocab=data_lm.vocab, test='test.csv')\n",
        "#     .split_from_df(col='is_valid') #is_valid\n",
        "#     .label_from_df(cols='target')\n",
        "#     .add_test(TextList.from_csv(path_working, 'test.csv', cols='text'))\n",
        "#     .databunch(bs=42))\n",
        "data_clas = (TextList.from_csv(path_working, 'train.csv',cols='text', vocab=data_lm.vocab)\n",
        "    .split_from_df(col='is_valid') #is_valid\n",
        "    .label_from_df(cols='target')\n",
        "    .add_test(TextList.from_csv(path_working, 'test.csv', cols='text'))\n",
        "    .databunch(bs=42))"
      ],
      "execution_count": 0,
      "outputs": []
    },
    {
      "cell_type": "code",
      "metadata": {
        "trusted": true,
        "_uuid": "e208d7e39669b28f64383573df75c21083de573b",
        "id": "XXw46ZRO3I5f",
        "colab_type": "code",
        "colab": {}
      },
      "source": [
        "# type(data_clas.test_dl)"
      ],
      "execution_count": 0,
      "outputs": []
    },
    {
      "cell_type": "code",
      "metadata": {
        "trusted": true,
        "_uuid": "ff22f1fc9a635a988da2da24191a91f0509afd15",
        "id": "lfz1Cs4j3I5k",
        "colab_type": "code",
        "outputId": "4ac5fcfd-8098-43b4-b2ec-7507e56ae06f",
        "colab": {
          "base_uri": "https://localhost:8080/",
          "height": 238
        }
      },
      "source": [
        "data_clas.show_batch()"
      ],
      "execution_count": 139,
      "outputs": [
        {
          "output_type": "display_data",
          "data": {
            "text/html": [
              "<table border=\"1\" class=\"dataframe\">\n",
              "  <thead>\n",
              "    <tr style=\"text-align: right;\">\n",
              "      <th>text</th>\n",
              "      <th>target</th>\n",
              "    </tr>\n",
              "  </thead>\n",
              "  <tbody>\n",
              "    <tr>\n",
              "      <td>xxbos xxup -lrb- xxmaj city xxup -rrb- reminds us how realistically nuanced a xxmaj robert xxmaj de xxmaj niro performance can be when he is not more lucratively engaged in the shameless self - caricature of ` xxmaj analyze xxmaj this ' xxup -lrb- 1999 xxup -rrb- and ` xxmaj analyze xxmaj that , ' promised xxup -lrb- or threatened xxup -rrb- for later this year .</td>\n",
              "      <td>3</td>\n",
              "    </tr>\n",
              "    <tr>\n",
              "      <td>xxbos xxmaj build some robots , haul 'em to the theatre with you for the late show , and put on your own xxmaj mystery xxmaj science xxmaj theatre 3000 tribute to what is almost certainly going to go down as the worst -- and only -- killer website movie of this or any other year</td>\n",
              "      <td>0</td>\n",
              "    </tr>\n",
              "    <tr>\n",
              "      <td>xxbos xxmaj as with so many merchandised - to - the - max movies of this type , more time appears to have gone into recruiting the right bands for the playlist and the costuming of the stars than into the script , which has a handful of smart jokes and not much else .</td>\n",
              "      <td>1</td>\n",
              "    </tr>\n",
              "    <tr>\n",
              "      <td>xxbos xxmaj keenly observed and refreshingly natural , xxmaj swimming gets the details right , from its promenade of barely clad bodies in xxmaj myrtle xxmaj beach , xxup s.c. , to the adrenaline jolt of a sudden lunch rush at the diner .</td>\n",
              "      <td>3</td>\n",
              "    </tr>\n",
              "    <tr>\n",
              "      <td>xxbos xxmaj despite its shortcomings , xxmaj girls xxmaj ca n't xxmaj swim represents an engaging and intimate first feature by a talented director to watch , and it 's a worthy entry in the xxmaj french coming - of - age genre .</td>\n",
              "      <td>3</td>\n",
              "    </tr>\n",
              "  </tbody>\n",
              "</table>"
            ],
            "text/plain": [
              "<IPython.core.display.HTML object>"
            ]
          },
          "metadata": {
            "tags": []
          }
        }
      ]
    },
    {
      "cell_type": "code",
      "metadata": {
        "trusted": true,
        "_uuid": "2f51ba96dc14d04544dad98694d458f664142b54",
        "id": "3gofG8_t3I5n",
        "colab_type": "code",
        "colab": {}
      },
      "source": [
        "#??text_classifier_learner()"
      ],
      "execution_count": 0,
      "outputs": []
    },
    {
      "cell_type": "code",
      "metadata": {
        "trusted": true,
        "_uuid": "4e1f6d9e5a0439011626e248b863ecde3f6d5390",
        "id": "DWn9SOfl3I5q",
        "colab_type": "code",
        "outputId": "99062bad-269c-4c53-a7f2-9dd8c4f613fd",
        "colab": {
          "base_uri": "https://localhost:8080/",
          "height": 34
        }
      },
      "source": [
        "data_clas.c"
      ],
      "execution_count": 141,
      "outputs": [
        {
          "output_type": "execute_result",
          "data": {
            "text/plain": [
              "5"
            ]
          },
          "metadata": {
            "tags": []
          },
          "execution_count": 141
        }
      ]
    },
    {
      "cell_type": "code",
      "metadata": {
        "trusted": true,
        "_uuid": "19578117e296d8a6a1793cc55b2d7e803286b526",
        "id": "mxn3sDF03I5t",
        "colab_type": "code",
        "colab": {}
      },
      "source": [
        "#len(data_clas.vocab.itos)"
      ],
      "execution_count": 0,
      "outputs": []
    },
    {
      "cell_type": "code",
      "metadata": {
        "trusted": true,
        "_uuid": "f8c829eee77556ed5b85847d50ec24e8446ec253",
        "colab_type": "code",
        "outputId": "837a81c1-cc31-418e-915e-724ce6dab13f",
        "id": "m3OSADM-9pe0",
        "colab": {
          "base_uri": "https://localhost:8080/",
          "height": 663
        }
      },
      "source": [
        "learn = text_classifier_learner(data_clas, AWD_LSTM)\n",
        "# learn = text_classifier_learner(data_clas,AWD_LSTM,drop_mult=0.5)\n",
        "learn.model"
      ],
      "execution_count": 143,
      "outputs": [
        {
          "output_type": "execute_result",
          "data": {
            "text/plain": [
              "SequentialRNN(\n",
              "  (0): MultiBatchEncoder(\n",
              "    (module): AWD_LSTM(\n",
              "      (encoder): Embedding(15082, 400, padding_idx=1)\n",
              "      (encoder_dp): EmbeddingDropout(\n",
              "        (emb): Embedding(15082, 400, padding_idx=1)\n",
              "      )\n",
              "      (rnns): ModuleList(\n",
              "        (0): WeightDropout(\n",
              "          (module): LSTM(400, 1150, batch_first=True)\n",
              "        )\n",
              "        (1): WeightDropout(\n",
              "          (module): LSTM(1150, 1150, batch_first=True)\n",
              "        )\n",
              "        (2): WeightDropout(\n",
              "          (module): LSTM(1150, 400, batch_first=True)\n",
              "        )\n",
              "      )\n",
              "      (input_dp): RNNDropout()\n",
              "      (hidden_dps): ModuleList(\n",
              "        (0): RNNDropout()\n",
              "        (1): RNNDropout()\n",
              "        (2): RNNDropout()\n",
              "      )\n",
              "    )\n",
              "  )\n",
              "  (1): PoolingLinearClassifier(\n",
              "    (layers): Sequential(\n",
              "      (0): BatchNorm1d(1200, eps=1e-05, momentum=0.1, affine=True, track_running_stats=True)\n",
              "      (1): Dropout(p=0.4)\n",
              "      (2): Linear(in_features=1200, out_features=50, bias=True)\n",
              "      (3): ReLU(inplace)\n",
              "      (4): BatchNorm1d(50, eps=1e-05, momentum=0.1, affine=True, track_running_stats=True)\n",
              "      (5): Dropout(p=0.1)\n",
              "      (6): Linear(in_features=50, out_features=5, bias=True)\n",
              "    )\n",
              "  )\n",
              ")"
            ]
          },
          "metadata": {
            "tags": []
          },
          "execution_count": 143
        }
      ]
    },
    {
      "cell_type": "code",
      "metadata": {
        "trusted": true,
        "_uuid": "5de39165034e4b1af1d2eedb8a341081c197670b",
        "id": "DUuhz81Z3I5z",
        "colab_type": "code",
        "colab": {}
      },
      "source": [
        "#learn.crit = F.binary_cross_entropy\n",
        "learn.crit = F.binary_cross_entropy_with_logits"
      ],
      "execution_count": 0,
      "outputs": []
    },
    {
      "cell_type": "code",
      "metadata": {
        "id": "4_T8l1N-L9rl",
        "colab_type": "code",
        "colab": {}
      },
      "source": [
        "# %cd kaggle/models/m\n",
        "# !ls"
      ],
      "execution_count": 0,
      "outputs": []
    },
    {
      "cell_type": "code",
      "metadata": {
        "trusted": true,
        "_uuid": "b7890378cd542f5767c3b53df5109cbcdb001f81",
        "id": "aJ85Yc293I53",
        "colab_type": "code",
        "outputId": "c5e8f7a8-1780-46a5-b533-94c3891bcca9",
        "colab": {
          "base_uri": "https://localhost:8080/",
          "height": 204
        }
      },
      "source": [
        "learn.load_encoder('mini_train_encoder')\n",
        "learn.fit_one_cycle(5, slice(1e-3,1e-2))\n",
        "learn.save('mini_train_clas')"
      ],
      "execution_count": 146,
      "outputs": [
        {
          "output_type": "display_data",
          "data": {
            "text/html": [
              "<table border=\"1\" class=\"dataframe\">\n",
              "  <thead>\n",
              "    <tr style=\"text-align: left;\">\n",
              "      <th>epoch</th>\n",
              "      <th>train_loss</th>\n",
              "      <th>valid_loss</th>\n",
              "      <th>accuracy</th>\n",
              "      <th>time</th>\n",
              "    </tr>\n",
              "  </thead>\n",
              "  <tbody>\n",
              "    <tr>\n",
              "      <td>0</td>\n",
              "      <td>1.229877</td>\n",
              "      <td>0.576249</td>\n",
              "      <td>0.860000</td>\n",
              "      <td>00:51</td>\n",
              "    </tr>\n",
              "    <tr>\n",
              "      <td>1</td>\n",
              "      <td>1.215014</td>\n",
              "      <td>0.587002</td>\n",
              "      <td>0.860000</td>\n",
              "      <td>00:58</td>\n",
              "    </tr>\n",
              "    <tr>\n",
              "      <td>2</td>\n",
              "      <td>1.234970</td>\n",
              "      <td>0.564155</td>\n",
              "      <td>0.860000</td>\n",
              "      <td>00:57</td>\n",
              "    </tr>\n",
              "    <tr>\n",
              "      <td>3</td>\n",
              "      <td>1.216521</td>\n",
              "      <td>0.584623</td>\n",
              "      <td>0.860000</td>\n",
              "      <td>00:59</td>\n",
              "    </tr>\n",
              "    <tr>\n",
              "      <td>4</td>\n",
              "      <td>1.220961</td>\n",
              "      <td>0.667123</td>\n",
              "      <td>0.880000</td>\n",
              "      <td>00:53</td>\n",
              "    </tr>\n",
              "  </tbody>\n",
              "</table>"
            ],
            "text/plain": [
              "<IPython.core.display.HTML object>"
            ]
          },
          "metadata": {
            "tags": []
          }
        }
      ]
    },
    {
      "cell_type": "markdown",
      "metadata": {
        "id": "c0HYycmnUEeW",
        "colab_type": "text"
      },
      "source": [
        "**Increasing batchsize and reducing dropRate reduced the accuracy from 0.90 to 0.88**"
      ]
    },
    {
      "cell_type": "code",
      "metadata": {
        "id": "eowJuZhuWXA8",
        "colab_type": "code",
        "colab": {
          "base_uri": "https://localhost:8080/",
          "height": 283
        },
        "outputId": "38979dc7-e37d-42ba-aaa9-606fbf8c2dec"
      },
      "source": [
        "learn.recorder.plot_losses()"
      ],
      "execution_count": 149,
      "outputs": [
        {
          "output_type": "display_data",
          "data": {
            "image/png": "[encoded data removed]",
            "text/plain": [
              "<Figure size 432x288 with 1 Axes>"
            ]
          },
          "metadata": {
            "tags": []
          }
        }
      ]
    },
    {
      "cell_type": "code",
      "metadata": {
        "trusted": true,
        "_uuid": "b3d433050a40e7b793398f3d198d79d3e31876bc",
        "id": "ziLwwXq43I54",
        "colab_type": "code",
        "colab": {}
      },
      "source": [
        "# # get predictions\n",
        "# preds, targets = learn.get_preds()\n",
        "\n",
        "# predictions = np.argmax(preds, axis = 1)\n",
        "# pd.crosstab(predictions, targets)"
      ],
      "execution_count": 0,
      "outputs": []
    },
    {
      "cell_type": "code",
      "metadata": {
        "trusted": true,
        "_uuid": "070f4c0bc8e3d36242bea999bf39a9f9556f5fb0",
        "id": "dGyQ8FnO3I56",
        "colab_type": "code",
        "colab": {}
      },
      "source": [
        "# learn.show_results()"
      ],
      "execution_count": 0,
      "outputs": []
    },
    {
      "cell_type": "code",
      "metadata": {
        "id": "qm6r91k0rWN8",
        "colab_type": "code",
        "colab": {}
      },
      "source": [
        "# predictions\n",
        "# learn.get_preds()\n",
        "# df[\"text\"].iloc[5]"
      ],
      "execution_count": 0,
      "outputs": []
    },
    {
      "cell_type": "code",
      "metadata": {
        "trusted": true,
        "_uuid": "cc57bbef8b63950b1a9b885e2c26b091c7abded3",
        "id": "XiJgXnSe3I5_",
        "colab_type": "code",
        "colab": {}
      },
      "source": [
        "# probs = np.mean(np.exp(preds),0)\n",
        "# # probs = np.mean(np.exp(preds),dtype=np.float32)\n"
      ],
      "execution_count": 0,
      "outputs": []
    },
    {
      "cell_type": "code",
      "metadata": {
        "id": "MkF7MEV8o1OH",
        "colab_type": "code",
        "colab": {}
      },
      "source": [
        "# preds = np.argmax(probs, axis=1)\n",
        "# probs = probs[:,1]\n",
        "\n",
        "# from sklearn.metrics import confusion_matrix\n",
        "# cm = confusion_matrix(y, preds)\n",
        "\n",
        "# plot_confusion_matrix(cm, data.classes)"
      ],
      "execution_count": 0,
      "outputs": []
    },
    {
      "cell_type": "code",
      "metadata": {
        "trusted": true,
        "_uuid": "c684fb63e9513321107cf4f7ccd7ded2c9e6ca38",
        "id": "dTFxkcb_3I6B",
        "colab_type": "code",
        "colab": {}
      },
      "source": [
        "# Language model data\n",
        "#data_lm = TextLMDataBunch.from_df(train_df = df_trn, valid_df = df_val, path = \"\")\n",
        "\n",
        "# Classifier model data\n",
        "#data_clas = TextClasDataBunch.from_df(path = \"\", train_df = df_trn, valid_df = df_val, vocab=data_lm.train_ds.vocab, bs=32)"
      ],
      "execution_count": 0,
      "outputs": []
    },
    {
      "cell_type": "code",
      "metadata": {
        "trusted": true,
        "_uuid": "9ab49a54e0e243fe3e2b4fbee33c1da13c87bc26",
        "id": "PuYmLqzh3I6F",
        "colab_type": "code",
        "colab": {}
      },
      "source": [
        "#type(learn.data.test_dl)"
      ],
      "execution_count": 0,
      "outputs": []
    },
    {
      "cell_type": "code",
      "metadata": {
        "trusted": true,
        "_uuid": "01cf1d5f3508203ad8d887b88df62b080dbfd016",
        "id": "U1wQOim63I6H",
        "colab_type": "code",
        "colab": {}
      },
      "source": [
        "# probs, _ = learn.get_preds(DatasetType.Test)"
      ],
      "execution_count": 0,
      "outputs": []
    },
    {
      "cell_type": "code",
      "metadata": {
        "trusted": true,
        "_uuid": "725ce477a1f9a6f4ba571ed4a70b6e1a1cafaeaf",
        "id": "w2L8WlJk3I6J",
        "colab_type": "code",
        "colab": {}
      },
      "source": [
        "# probs.shape"
      ],
      "execution_count": 0,
      "outputs": []
    },
    {
      "cell_type": "code",
      "metadata": {
        "trusted": true,
        "_uuid": "291a2ff0c86f76b4a7c023bef4e777fec2312e5f",
        "id": "psp8elFQ3I6L",
        "colab_type": "code",
        "colab": {}
      },
      "source": [
        "# probs[0]"
      ],
      "execution_count": 0,
      "outputs": []
    },
    {
      "cell_type": "code",
      "metadata": {
        "trusted": true,
        "_uuid": "b978c2359e3a0f9e9cc3fb15298090fa9a6f8eab",
        "id": "Yp8iD-sE3I6N",
        "colab_type": "code",
        "colab": {}
      },
      "source": [
        "# preds = np.argmax(probs, axis=1)"
      ],
      "execution_count": 0,
      "outputs": []
    },
    {
      "cell_type": "code",
      "metadata": {
        "trusted": true,
        "_uuid": "5c5619aaeceb229a774b76129f7a84df5bb63ce1",
        "id": "wYOJ7ELG3I6S",
        "colab_type": "code",
        "colab": {}
      },
      "source": [
        "# ids = df_test[\"PhraseId\"].copy()"
      ],
      "execution_count": 0,
      "outputs": []
    },
    {
      "cell_type": "code",
      "metadata": {
        "trusted": true,
        "_uuid": "b0b78c3142133f41ba7238e1cb03ba3b15e64b69",
        "id": "i8cvUAf-3I6X",
        "colab_type": "code",
        "colab": {}
      },
      "source": [
        "# # submission = pd.DataFrame(data={\n",
        "#     \"PhraseId\": ids,\n",
        "#     \"Sentiment\": preds\n",
        "# })\n",
        "# submission.to_csv(\"submission.csv\", index=False)\n",
        "# submission.head(n=10)"
      ],
      "execution_count": 0,
      "outputs": []
    },
    {
      "cell_type": "code",
      "metadata": {
        "trusted": true,
        "_uuid": "410a06aae0108fc975608018fee5efaabd868138",
        "id": "48JPSNqx3I6c",
        "colab_type": "code",
        "colab": {}
      },
      "source": [
        "#df.head()"
      ],
      "execution_count": 0,
      "outputs": []
    },
    {
      "cell_type": "code",
      "metadata": {
        "trusted": true,
        "_uuid": "e2c4aa73684f47de9bd3b290a7d378ffebb20d52",
        "id": "zPclxEp83I6h",
        "colab_type": "code",
        "colab": {}
      },
      "source": [
        "#from sklearn.model_selection import train_test_split\n",
        "\n",
        "# split data into training and validation set\n",
        "#df_trn, df_val = train_test_split(df, stratify = df['target'], test_size = 0.4, random_state = 12)"
      ],
      "execution_count": 0,
      "outputs": []
    },
    {
      "cell_type": "code",
      "metadata": {
        "trusted": true,
        "_uuid": "224a2689d306bd4c6a5d2ce1ee05100229fc40ab",
        "id": "q6pDnIY03I6k",
        "colab_type": "code",
        "colab": {}
      },
      "source": [
        "# Language model data\n",
        "#data_lm = TextLMDataBunch.from_df(train_df = df_trn, valid_df = df_val, path = \"../input\")\n"
      ],
      "execution_count": 0,
      "outputs": []
    },
    {
      "cell_type": "code",
      "metadata": {
        "trusted": true,
        "_uuid": "b4495c31130992bfc20cc46f1f2a2a1d94e090bf",
        "id": "fItw-tcU3I6n",
        "colab_type": "code",
        "colab": {}
      },
      "source": [
        "\n",
        "# Classifier model data\n",
        "#data_clas = TextClasDataBunch.from_df(path = \"\", train_df = df_trn, valid_df = df_val, vocab=data_lm.train_ds.vocab, bs=32)"
      ],
      "execution_count": 0,
      "outputs": []
    },
    {
      "cell_type": "code",
      "metadata": {
        "trusted": true,
        "_uuid": "a23d7761870609880ab08b470562267107fc51a1",
        "id": "fDugvIdk3I6s",
        "colab_type": "code",
        "colab": {}
      },
      "source": [
        ""
      ],
      "execution_count": 0,
      "outputs": []
    }
  ]
}